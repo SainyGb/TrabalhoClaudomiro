{
 "cells": [
  {
   "cell_type": "markdown",
   "id": "d5f635ee",
   "metadata": {},
   "source": [
    "# Cache Exemplos "
   ]
  },
  {
   "cell_type": "markdown",
   "id": "eb7e35cc",
   "metadata": {},
   "source": [
    "### Exemplo 5.2 :Cálculo da quantidade de bits necessários para uma determinada memória cache. Considere um sistema de computação com uma memória cache de 32KB de capacidade, constituída de linhas com 8 bytes de largura. A MP possui uma capacidade de 16MB."
   ]
  },
  {
   "cell_type": "code",
   "execution_count": 187,
   "id": "68df65ed",
   "metadata": {},
   "outputs": [
    {
     "name": "stdout",
     "output_type": "stream",
     "text": [
      "O total de bits de tag é: 36864.0 ou 36Kbits \n",
      "O total de bits de dados é: 262144 ou 256Kbits\n",
      "O total de bits é: 299008 ou 292Kbits\n"
     ]
    }
   ],
   "source": [
    "#Para resolver o problema usaremos as fórmulas: \n",
    "#total de bits da cache = total de bits de dados + total de bits tag\n",
    "#B = N/L; Onde B = Quantidade de blocos, N = quantidade de células, L = largura da linha\n",
    "#Total de linhas = capacidade da cache / capacidade da linha\n",
    "#Bits da Tag = math.log(Bloco/Linha, 2)\n",
    "#Bits dos Bytes = math.log(Capacidade da linha, 2)\n",
    "#Bits do end da linha = math.log(Total de linhas, 2)\n",
    "#bits de endereço do bloco = Tag + Linha ou math.log(B, 2)\n",
    "#bits de endereço da MP = math.log(Quantidade de células da MP, 2)\n",
    "#Nota-se, também, que Largura do Bloco da MP = Largura da Linha da Cache.\n",
    "import math\n",
    "L = 2**3\n",
    "N = 2**24\n",
    "B = N/L\n",
    "\n",
    "\n",
    "capacidade_cache = 2**15\n",
    "qtd_linhas = capacidade_cache / L\n",
    "bloco_por_linha = B / qtd_linhas\n",
    "\n",
    "\n",
    "bits_tag = math.log((bloco_por_linha), 2)\n",
    "\n",
    "total_bits_dado = capacidade_cache * 8\n",
    "total_bits_tag = qtd_linhas * bits_tag\n",
    "total_bits = total_bits_dado + total_bits_tag\n",
    "print(\"O total de bits de tag é:\", total_bits_tag, \"ou 36Kbits\", \"\\n\" \"O total de bits de dados é:\", total_bits_dado, \"ou 256Kbits\" \"\\n\" \"O total de bits é:\",int(total_bits), \"ou 292Kbits\")"
   ]
  },
  {
   "cell_type": "markdown",
   "id": "38dd0def",
   "metadata": {},
   "source": [
    "### Exemplo 5.3: Cálculo de formato de endereço para memórias cache com mapeamento direto. Considere uma MP com 64MB de capacidade associada a uma memória cache que possui 2K linhas, cada uma comlargura de 16 bytes. Determine o formato do endereço para ser interpretado pelo sistema de controle da cache."
   ]
  },
  {
   "cell_type": "code",
   "execution_count": 188,
   "id": "6a98f38f",
   "metadata": {},
   "outputs": [
    {
     "name": "stdout",
     "output_type": "stream",
     "text": [
      "Quantidade de bits do endereço da linha é: 11.0 \n",
      "Quantidade de bits da Tag é: 11.0 \n",
      "Quantidade de bits do endereço do Byte é: 4.0 \n",
      "O total de bits de endereço da mp é: 26.0\n"
     ]
    }
   ],
   "source": [
    "#Para resolver o problema usaremos as fórmulas: \n",
    "#total de bits da cache = total de bits de dados + total de bits tag\n",
    "#B = N/L; Onde B = Quantidade de blocos, N = quantidade de células, L = largura da linha\n",
    "#Total de linhas = capacidade da cache / capacidade da linha\n",
    "#Bits da Tag = math.log(Bloco/Linha, 2)\n",
    "#Bits dos Bytes = math.log(Capacidade da linha, 2)\n",
    "#Bits do end da linha = math.log(Total de linhas, 2)\n",
    "#bits de endereço do bloco = Tag + Linha ou math.log(B, 2)\n",
    "#bits de endereço da MP = math.log(Quantidade de células da MP, 2)\n",
    "#Nota-se, também, que Largura do Bloco da MP = Largura da Linha da Cache.\n",
    "import math\n",
    "L = 2**4\n",
    "N = 2**26\n",
    "B = N/L\n",
    "qtd_linhas = 2**11\n",
    "bloco_por_linha = B / qtd_linhas\n",
    "\n",
    "\n",
    "bits_tag = math.log(bloco_por_linha, 2)\n",
    "bits_linha = math.log(qtd_linhas, 2)\n",
    "bits_byte = math.log(L, 2) \n",
    "total_bits_mp = bits_tag + bits_linha + bits_byte\n",
    "\n",
    "\n",
    "print(\"Quantidade de bits do endereço da linha é:\", bits_linha, \"\\n\" \"Quantidade de bits da Tag é:\", bits_tag, \"\\n\" \"Quantidade de bits do endereço do Byte é:\", bits_byte, \"\\n\" \"O total de bits de endereço da mp é:\", total_bits_mp)"
   ]
  },
  {
   "cell_type": "markdown",
   "id": "489917dd",
   "metadata": {},
   "source": [
    "### Exemplo5.4: Seja uma MP constituída de blocos comlargura de 32 bytes, associada a uma cache com 128KB. Em dado instante o processador realiza um acesso, colocando o seguinte endereço (expresso em algarismos hexadecimais): 3FC92B6. Determine qual deverá ser o valor binário da linha que será localizada pelo sistema de controle da cache.\n"
   ]
  },
  {
   "cell_type": "code",
   "execution_count": 189,
   "id": "dd50e3c3",
   "metadata": {},
   "outputs": [
    {
     "name": "stdout",
     "output_type": "stream",
     "text": [
      "Quantidade de bits do endereço da linha é: 12.0 \n",
      "Quantidade de bits da Tag é: 11.0 \n",
      "Quantidade de bits do endereço do Byte é: 5.0 \n",
      "O total de bits de endereço da mp é: 28.0\n",
      "\n",
      "O endereço completo de 3FC92B6 fica assim: 0011111111001001001010110110 \n",
      "\n",
      "A parte do tag fica assim: 00111111110\n",
      "A parte dos bits de linha ficam assim: 010010010101\n",
      "A parte dos bits de byte ficam assim: 10110\n"
     ]
    }
   ],
   "source": [
    "#Para resolver o problema usaremos as fórmulas: \n",
    "#total de bits da cache = total de bits de dados + total de bits tag\n",
    "#B = N/L; Onde B = Quantidade de blocos, N = quantidade de células, L = largura da linha\n",
    "#Total de linhas = capacidade da cache / capacidade da linha\n",
    "#Bits da Tag = math.log(Bloco/Linha, 2)\n",
    "#Bits dos Bytes = math.log(Capacidade da linha, 2)\n",
    "#Bits do end da linha = math.log(Total de linhas, 2)\n",
    "#bits de endereço do bloco = Tag + Linha ou math.log(B, 2)\n",
    "#bits de endereço da MP = math.log(Quantidade de células da MP, 2)\n",
    "#Nota-se, também, que Largura do Bloco da MP = Largura da Linha da Cache.\n",
    "import math\n",
    "L = 2**5\n",
    "N = 2**28\n",
    "B = N/L\n",
    "capacidade_cache = 2**17\n",
    "qtd_linhas = capacidade_cache / L\n",
    "bloco_por_linha = B / qtd_linhas\n",
    "\n",
    "\n",
    "bits_tag = math.log(bloco_por_linha, 2)\n",
    "bits_linha = math.log(qtd_linhas, 2)\n",
    "bits_byte = math.log(L, 2) \n",
    "total_bits_mp = bits_tag + bits_linha + bits_byte\n",
    "\n",
    "\n",
    "\n",
    "\n",
    "print(\"Quantidade de bits do endereço da linha é:\", bits_linha, \"\\n\" \"Quantidade de bits da Tag é:\", bits_tag, \"\\n\" \"Quantidade de bits do endereço do Byte é:\", bits_byte, \"\\n\" \"O total de bits de endereço da mp é:\", total_bits_mp)\n",
    "\n",
    "# 3FC92B6 = 0011111111001001001010110110\n",
    "n = list(\"0011111111001001001010110110\")\n",
    "nstr = \"0011111111001001001010110110\"\n",
    "end_completo = \"\"\n",
    "taglist = []\n",
    "tagliststr = \"\"\n",
    "\n",
    "linhalist = []\n",
    "linhaliststr = \"\"\n",
    "\n",
    "bytelist = []\n",
    "byteliststr = \"\"\n",
    "print(\"\\n\"\"O endereço completo de 3FC92B6 fica assim:\", nstr, \"\\n\")\n",
    "for i in range(int(bits_tag), 0, -1):\n",
    "    tag_end = n.pop(int(0))\n",
    "    taglist.append(tag_end)\n",
    "print(\"A parte do tag fica assim:\", tagliststr.join(taglist))\n",
    "\n",
    "for i in range(int(bits_linha), 0, -1):\n",
    "    list_end = n.pop(int(0))\n",
    "    linhalist.append(list_end)\n",
    "print(\"A parte dos bits de linha ficam assim:\", linhaliststr.join(linhalist))\n",
    "\n",
    "for i in range(int(bits_byte), 0, -1):\n",
    "    byte_end = n.pop(int(0))\n",
    "    bytelist.append(byte_end)\n",
    "print(\"A parte dos bits de byte ficam assim:\", byteliststr.join(bytelist))\n"
   ]
  },
  {
   "cell_type": "markdown",
   "id": "a0d30e5e",
   "metadata": {},
   "source": [
    "### Exemplo 5.5: Cálculo da quantidade de bits necessários para uma determinada memória cache. Considere um sistema de computação com uma memória cache de 32KB de capacidade, constituída de linhas com 8 bytes de largura. A MP possui uma capacidade de 16MB."
   ]
  },
  {
   "cell_type": "code",
   "execution_count": 190,
   "id": "bbc8b99f",
   "metadata": {},
   "outputs": [
    {
     "name": "stdout",
     "output_type": "stream",
     "text": [
      "O total de bits do bloco é: 86016.0 ou 84Kbits \n",
      "O total de bits de dados é: 262144 ou 256Kbits \n",
      "O total de bits é: 348160 ou 340Kbits\n"
     ]
    }
   ],
   "source": [
    "#Para resolver o problema usaremos as fórmulas: \n",
    "#total de bits da cache = total de bits de dados + total de bits tag\n",
    "#B = N/L; Onde B = Quantidade de blocos, N = quantidade de células, L = largura da linha\n",
    "#Total de linhas = capacidade da cache / capacidade da linha\n",
    "#Bits dos Bytes = math.log(Capacidade da linha, 2)\n",
    "#bits de endereço da MP = math.log(Quantidade de células da MP, 2)\n",
    "#Nota-se, também, que Largura do Bloco da MP = Largura da Linha da Cache.\n",
    "import math\n",
    "L = 2**3\n",
    "N = 2**24\n",
    "B = N/L\n",
    "bits_campo_bloco = math.log(B,2)\n",
    "capacidade_cache = 2**15\n",
    "qtd_linhas = capacidade_cache / L\n",
    "bloco_por_linha = B / qtd_linhas\n",
    "\n",
    "\n",
    "bits_tag = math.log((bloco_por_linha), 2)\n",
    "\n",
    "total_bits_dado = capacidade_cache * 8\n",
    "total_bits_bloco = qtd_linhas * bits_campo_bloco\n",
    "total_bits = total_bits_dado + total_bits_bloco\n",
    "print(\"O total de bits do bloco é:\", total_bits_bloco, \"ou 84Kbits\", \"\\n\" \"O total de bits de dados é:\", total_bits_dado, \"ou 256Kbits \" \"\\n\" \"O total de bits é:\",int(total_bits), \"ou 340Kbits\")"
   ]
  },
  {
   "cell_type": "markdown",
   "id": "18881481",
   "metadata": {},
   "source": [
    "### Exemplo 5.6:Cálculo de formato de endereço para memórias cache com mapeamento associativo completo. Considere uma MP com 64MB de capacidade associada a uma memória cache que possui 2K linhas, cada uma com largura de 16 bytes. Determine o formato do endereço para ser interpretado pelo sistema de controle da cache."
   ]
  },
  {
   "cell_type": "code",
   "execution_count": 191,
   "id": "cd4600be",
   "metadata": {},
   "outputs": [
    {
     "name": "stdout",
     "output_type": "stream",
     "text": [
      "Quantidade de bits do bloco: 22.0 \n",
      "Quantidade de bits do endereço do Byte é: 4.0 \n",
      "O total de bits de endereço da mp é: 26.0\n"
     ]
    }
   ],
   "source": [
    "#Para resolver o problema usaremos as fórmulas: \n",
    "#total de bits da cache = total de bits de dados + total de bits tag\n",
    "#B = N/L; Onde B = Quantidade de blocos, N = quantidade de células, L = largura da linha\n",
    "#Total de linhas = capacidade da cache / capacidade da linha\n",
    "#Bits dos Bytes = math.log(Capacidade da linha, 2)\n",
    "#bits de endereço da MP = math.log(Quantidade de células da MP, 2)\n",
    "#Nota-se, também, que Largura do Bloco da MP = Largura da Linha da Cache.\n",
    "import math\n",
    "L = 2**4\n",
    "N = 2**26\n",
    "B = N/L\n",
    "\n",
    "bits_bloco = math.log(B, 2)\n",
    "bits_byte = math.log(L, 2) \n",
    "total_bits_mp = math.log(N,2)\n",
    "\n",
    "\n",
    "print(\"Quantidade de bits do bloco:\", bits_bloco, \"\\n\" \"Quantidade de bits do endereço do Byte é:\", bits_byte, \"\\n\" \"O total de bits de endereço da mp é:\", total_bits_mp)"
   ]
  },
  {
   "cell_type": "markdown",
   "id": "7e09af3e",
   "metadata": {},
   "source": [
    "### Exemplo 5.7: Seja uma MP constituída de blocos com largura de 32 bytes, associada a uma cache com 64KB. Em dado instante o processador realiza um acesso, colocando o seguinte endereço (expresso em algarismos hexadecimais): 3FC92B6. Determine qual deverá ser o valor binário do campo bloco que será localizado pelo sistema de controle da cache."
   ]
  },
  {
   "cell_type": "code",
   "execution_count": 192,
   "id": "a9f29feb",
   "metadata": {},
   "outputs": [
    {
     "name": "stdout",
     "output_type": "stream",
     "text": [
      "Quantidade de bits do bloco: 23.0 \n",
      "Quantidade de bits do endereço do Byte é: 5.0 \n",
      "O total de bits de endereço da mp é: 28.0\n",
      "\n",
      " O endereço completo de 3FC92B6 fica assim: 0011111111001001001010110110 \n",
      "\n",
      "O bloco fica assim: 00111111110010010010101\n",
      "Os bits de byte ficam assim: 10110\n"
     ]
    }
   ],
   "source": [
    "#Para resolver o problema usaremos as fórmulas: \n",
    "#total de bits da cache = total de bits de dados + total de bits tag\n",
    "#B = N/L; Onde B = Quantidade de blocos, N = quantidade de células, L = largura da linha\n",
    "#Total de linhas = capacidade da cache / capacidade da linha\n",
    "#Bits dos Bytes = math.log(Capacidade da linha, 2)\n",
    "#bits de endereço da MP = math.log(Quantidade de células da MP, 2)\n",
    "#Nota-se, também, que Largura do Bloco da MP = Largura da Linha da Cache.\n",
    "import math\n",
    "L = 2**5\n",
    "N = 2**28\n",
    "B = N/L\n",
    "\n",
    "\n",
    "bits_bloco = math.log(B, 2)\n",
    "bits_byte = math.log(L, 2) \n",
    "total_bits_mp = math.log(N,2)\n",
    "\n",
    "\n",
    "print(\"Quantidade de bits do bloco:\", bits_bloco, \"\\n\" \"Quantidade de bits do endereço do Byte é:\", bits_byte, \"\\n\" \"O total de bits de endereço da mp é:\", total_bits_mp)\n",
    "\n",
    "# 3FC92B6 = 0011111111001001001010110110\n",
    "n = list(\"0011111111001001001010110110\")\n",
    "nstr = \"0011111111001001001010110110\"\n",
    "blocolist = []\n",
    "blocoliststr = \"\"\n",
    "\n",
    "bytelist = []\n",
    "byteliststr = \"\"\n",
    "\n",
    "print(\"\\n O endereço completo de 3FC92B6 fica assim:\", nstr, \"\\n\")\n",
    "for i in range(int(bits_bloco), 0, -1):\n",
    "    bloco_end = n.pop(int(0))\n",
    "    blocolist.append(bloco_end)\n",
    "print(\"O bloco fica assim:\", blocoliststr.join(blocolist))\n",
    "\n",
    "for i in range(int(bits_byte), 0, -1):\n",
    "    byte_end = n.pop(int(0))\n",
    "    bytelist.append(byte_end)\n",
    "print(\"Os bits de byte ficam assim:\", byteliststr.join(bytelist))"
   ]
  },
  {
   "cell_type": "markdown",
   "id": "6f5b3dff",
   "metadata": {},
   "source": [
    "### Exemplo 5.8: Cálculo da quantidade de bits necessários para uma determinada memória cache, que funciona com mapeamento por conjunto de quatro. Considere umsistema de computação com uma memória cache de 32KB de capacidade, constituída de linhas com 8 bytes de largura e conjunto de 4. A MP possui uma capacidade de 16MB."
   ]
  },
  {
   "cell_type": "code",
   "execution_count": 193,
   "id": "28740293",
   "metadata": {},
   "outputs": [
    {
     "name": "stdout",
     "output_type": "stream",
     "text": [
      "O total de bits do bloco é: 45056.0 ou 44Kbits \n",
      "O total de bits de dados é: 262144 ou 256Kbits \n",
      "O total de bits é: 307200 ou 300Kbits\n"
     ]
    }
   ],
   "source": [
    "#Para resolver o problema usaremos as fórmulas: \n",
    "#total de bits da cache = total de bits de dados + total de bits tag\n",
    "#B = N/L; Onde B = Quantidade de blocos, N = quantidade de células, L = largura da linha\n",
    "#Total de linhas = capacidade da cache / capacidade da linha\n",
    "#Bits dos Bytes = math.log(Capacidade da linha, 2)\n",
    "#bits de endereço da MP = math.log(Quantidade de células da MP, 2)\n",
    "#Nota-se, também, que Largura do Bloco da MP = Largura da Linha da Cache.\n",
    "import math\n",
    "L = 2**3\n",
    "N = 2**24\n",
    "B = N/L\n",
    "qtd_linhas_conjuntos = 4\n",
    "\n",
    "capacidade_cache = 2**15\n",
    "qtd_linhas = capacidade_cache / L\n",
    "qtd_conjuntos = qtd_linhas / qtd_linhas_conjuntos\n",
    "qtd_blocos_por_conjunto = B / qtd_conjuntos\n",
    "campo_tag = math.log(qtd_blocos_por_conjunto, 2)\n",
    "\n",
    "\n",
    "total_bits_dado = capacidade_cache * 8\n",
    "total_bits_tag = qtd_linhas * campo_tag\n",
    "total_bits = total_bits_dado + total_bits_tag\n",
    "print(\"O total de bits do bloco é:\", total_bits_tag, \"ou 44Kbits\", \"\\n\" \"O total de bits de dados é:\", total_bits_dado, \"ou 256Kbits \" \"\\n\" \"O total de bits é:\",int(total_bits), \"ou 300Kbits\")"
   ]
  },
  {
   "cell_type": "markdown",
   "id": "bb8b8795",
   "metadata": {},
   "source": [
    "### Exemplo 5.9: Cálculo de formato de endereço para memórias cache com mapeamento associativo por conjunto. Considere uma MP com 64MB de capacidade associada a uma memória cache que funciona com mapeamento associativo por conjunto de 4 e que possui 32KB, com linhas de largura de 16 bytes. Determine o formato do endereço para ser interpretado pelo sistema de controle da cache."
   ]
  },
  {
   "cell_type": "code",
   "execution_count": 194,
   "id": "48da0831",
   "metadata": {},
   "outputs": [
    {
     "name": "stdout",
     "output_type": "stream",
     "text": [
      "Quantidade de bits tag: 13.0 \n",
      "Quantidade de bits de conjunto: 9.0 \n",
      "Quantidade de bits do endereço do Byte é: 4.0 \n",
      "O total de bits de endereço da mp é: 26.0\n"
     ]
    }
   ],
   "source": [
    "#Para resolver o problema usaremos as fórmulas: \n",
    "#total de bits da cache = total de bits de dados + total de bits tag\n",
    "#B = N/L; Onde B = Quantidade de blocos, N = quantidade de células, L = largura da linha\n",
    "#Total de linhas = capacidade da cache / capacidade da linha\n",
    "#Bits dos Bytes = math.log(Capacidade da linha, 2)\n",
    "#bits de endereço da MP = math.log(Quantidade de células da MP, 2)\n",
    "#Nota-se, também, que Largura do Bloco da MP = Largura da Linha da Cache.\n",
    "import math\n",
    "L = 2**4\n",
    "N = 2**26\n",
    "B = N/L\n",
    "qtd_linhas_conjuntos = 4\n",
    "capacidade_cache = 2**15\n",
    "qtd_linhas = capacidade_cache / L\n",
    "qtd_conjuntos = qtd_linhas / qtd_linhas_conjuntos\n",
    "qtd_blocos_por_conjunto = B / qtd_conjuntos\n",
    "\n",
    "\n",
    "bits_byte = math.log(L,2)\n",
    "campo_tag = math.log(qtd_blocos_por_conjunto, 2)\n",
    "bits_conjunto = math.log(qtd_conjuntos, 2)\n",
    "total_bits_mp = campo_tag + bits_conjunto + bits_byte \n",
    "\n",
    "\n",
    "print(\"Quantidade de bits tag:\", campo_tag, \"\\n\" \"Quantidade de bits de conjunto:\", bits_conjunto, \"\\n\" \"Quantidade de bits do endereço do Byte é:\", bits_byte, \"\\n\" \"O total de bits de endereço da mp é:\", total_bits_mp)"
   ]
  },
  {
   "cell_type": "markdown",
   "id": "ca565fd8",
   "metadata": {},
   "source": [
    "### Exemplo 5.10: Seja uma MP constituída de blocos com largura de 32 bytes, associada a uma cache com 64KB; a cache usa mapeamento por conjunto de 4. Em dado instante o processador realiza umacesso, colocando o seguinte endereço (expresso emalgarismos hexadecimais): 3FC92B6. Determine qual deverá ser o valor binário do conjunto que será localizado pelo sistema de controle da cache."
   ]
  },
  {
   "cell_type": "code",
   "execution_count": 196,
   "id": "13d6f39c",
   "metadata": {},
   "outputs": [
    {
     "name": "stdout",
     "output_type": "stream",
     "text": [
      "Quantidade de bits tag: 14.0 \n",
      "Quantidade de bits de conjunto: 9.0 \n",
      "Quantidade de bits do endereço do Byte é: 5.0 \n",
      "O total de bits de endereço da mp é: 28.0\n",
      "\n",
      " O endereço completo de 3FC92B6 fica assim: 0011111111001001001010110110 \n",
      "\n",
      "O tag fica assim: 00111111110010\n",
      "Os bits do conjunto ficam assim: 010010101\n",
      "Os bits de byte ficam assim: 10110\n"
     ]
    }
   ],
   "source": [
    "#Para resolver o problema usaremos as fórmulas: \n",
    "#total de bits da cache = total de bits de dados + total de bits tag\n",
    "#B = N/L; Onde B = Quantidade de blocos, N = quantidade de células, L = largura da linha\n",
    "#Total de linhas = capacidade da cache / capacidade da linha\n",
    "#Bits dos Bytes = math.log(Capacidade da linha, 2)\n",
    "#bits de endereço da MP = math.log(Quantidade de células da MP, 2)\n",
    "#Nota-se, também, que Largura do Bloco da MP = Largura da Linha da Cache.\n",
    "import math\n",
    "L = 2**5\n",
    "N = 2**28\n",
    "B = N/L\n",
    "qtd_linhas_conjuntos = 4\n",
    "capacidade_cache = 2**16\n",
    "qtd_linhas = capacidade_cache / L\n",
    "qtd_conjuntos = qtd_linhas / qtd_linhas_conjuntos\n",
    "qtd_blocos_por_conjunto = B / qtd_conjuntos\n",
    "\n",
    "\n",
    "bits_byte = math.log(L,2)\n",
    "campo_tag = math.log(qtd_blocos_por_conjunto, 2)\n",
    "bits_conjunto = math.log(qtd_conjuntos, 2)\n",
    "total_bits_mp = campo_tag + bits_conjunto + bits_byte \n",
    "\n",
    "\n",
    "print(\"Quantidade de bits tag:\", campo_tag, \"\\n\" \"Quantidade de bits de conjunto:\", bits_conjunto, \"\\n\" \"Quantidade de bits do endereço do Byte é:\", bits_byte, \"\\n\" \"O total de bits de endereço da mp é:\", total_bits_mp)\n",
    "\n",
    "\n",
    "# 3FC92B6 = 0011111111001001001010110110\n",
    "n = list(\"0011111111001001001010110110\")\n",
    "nstr = \"0011111111001001001010110110\"\n",
    "taglist = []\n",
    "tagliststr = \"\"\n",
    "\n",
    "conjuntolist = []\n",
    "conjuntoliststr = \"\"\n",
    "\n",
    "bytelist = []\n",
    "byteliststr = \"\"\n",
    "\n",
    "print(\"\\n O endereço completo de 3FC92B6 fica assim:\", nstr, \"\\n\")\n",
    "for i in range(int(campo_tag), 0, -1):\n",
    "    tag_end = n.pop(int(0))\n",
    "    taglist.append(tag_end)\n",
    "print(\"O tag fica assim:\", tagliststr.join(taglist))\n",
    "\n",
    "for i in range(int(bits_conjunto), 0, -1):\n",
    "    conjunto_end = n.pop(int(0))\n",
    "    conjuntolist.append(conjunto_end)\n",
    "print(\"Os bits do conjunto ficam assim:\", tagliststr.join(conjuntolist))\n",
    "\n",
    "\n",
    "for i in range(int(bits_byte), 0, -1):\n",
    "    byte_end = n.pop(int(0))\n",
    "    bytelist.append(byte_end)\n",
    "print(\"Os bits de byte ficam assim:\", byteliststr.join(bytelist))"
   ]
  }
 ],
 "metadata": {
  "kernelspec": {
   "display_name": "Python 3",
   "language": "python",
   "name": "python3"
  },
  "language_info": {
   "codemirror_mode": {
    "name": "ipython",
    "version": 3
   },
   "file_extension": ".py",
   "mimetype": "text/x-python",
   "name": "python",
   "nbconvert_exporter": "python",
   "pygments_lexer": "ipython3",
   "version": "3.8.8"
  }
 },
 "nbformat": 4,
 "nbformat_minor": 5
}
