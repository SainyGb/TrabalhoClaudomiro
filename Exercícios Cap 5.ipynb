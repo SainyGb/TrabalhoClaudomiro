{
 "cells": [
  {
   "cell_type": "markdown",
   "id": "cc27151d",
   "metadata": {},
   "source": [
    "# Exercícios Cap. 5"
   ]
  },
  {
   "cell_type": "markdown",
   "id": "ab03473e",
   "metadata": {},
   "source": [
    "## 1) Uma memória cache associativa por conjunto consiste em 256 linhas divididas em conjuntos de duas linhas cada. A memória principal contém 4K blocos de 128 bytes cada um. Mostre o formato de um endereço de MP e da cache."
   ]
  },
  {
   "cell_type": "code",
   "execution_count": 3,
   "id": "886a8412",
   "metadata": {},
   "outputs": [
    {
     "name": "stdout",
     "output_type": "stream",
     "text": [
      "Quantidade de bits tag: 5.0 \n",
      "Quantidade de bits de conjunto: 7.0 \n",
      "Quantidade de bits do endereço do Byte é: 7.0 \n",
      "O total de bits de endereço da mp é: 19.0\n"
     ]
    }
   ],
   "source": [
    "#Para resolver o problema usaremos as fórmulas: \n",
    "#total de bits da cache = total de bits de dados + total de bits tag\n",
    "#B = N/L; Onde B = Quantidade de blocos, N = quantidade de células, L = largura da linha\n",
    "#Total de linhas = capacidade da cache / capacidade da linha\n",
    "#Bits dos Bytes = math.log(Capacidade da linha, 2)\n",
    "#bits de endereço da MP = math.log(Quantidade de células da MP, 2)\n",
    "#Nota-se, também, que Largura do Bloco da MP = Largura da Linha da Cache.\n",
    "import math\n",
    "L = 2**7\n",
    "N = 2**19\n",
    "B = N/L\n",
    "qtd_linhas_conjuntos = 2\n",
    "capacidade_cache = 2**15\n",
    "qtd_linhas = 2**8\n",
    "qtd_conjuntos = qtd_linhas / qtd_linhas_conjuntos\n",
    "qtd_blocos_por_conjunto = B / qtd_conjuntos\n",
    "\n",
    "\n",
    "bits_byte = math.log(L,2)\n",
    "campo_tag = math.log(qtd_blocos_por_conjunto, 2)\n",
    "bits_conjunto = math.log(qtd_conjuntos, 2)\n",
    "total_bits_mp = campo_tag + bits_conjunto + bits_byte \n",
    "\n",
    "\n",
    "print(\"Quantidade de bits tag:\", campo_tag, \"\\n\" \"Quantidade de bits de conjunto:\", bits_conjunto, \"\\n\" \"Quantidade de bits do endereço do Byte é:\", bits_byte, \"\\n\" \"O total de bits de endereço da mp é:\", total_bits_mp)"
   ]
  },
  {
   "cell_type": "markdown",
   "id": "91183d49",
   "metadata": {},
   "source": [
    "## 2) Em que circunstâncias uma cache que funciona com mapeamento associativo por conjunto pode ser considerada igual à cache que funciona com mapeamento direto?\n"
   ]
  },
  {
   "cell_type": "markdown",
   "id": "e215ae2a",
   "metadata": {},
   "source": [
    "Durante a etapa de endereçamento do conjunto, pois cada bloco da Memória Principal é \"fixa\" a um determinado conjunto."
   ]
  },
  {
   "cell_type": "markdown",
   "id": "8e73babe",
   "metadata": {},
   "source": [
    "## 3) Considere um sistema de computação que possui uma memória principal (RAM) com capacidade máxima de endereçamento de 64K células, e que cada célula armazena um byte de informação. Para criar um sistema de controle e funcionamento da sua memória cache, a memória RAM é constituída de blocos de 8 bytes cada. A memória cache do sistema é do tipo mapeamento direto, contendo 32 linhas. Pergunta-se:"
   ]
  },
  {
   "cell_type": "markdown",
   "id": "3d811d2c",
   "metadata": {},
   "source": [
    "### a) Como seria organizado o endereço da MP (RAM) em termos de tag, número da linha e do byte dentro de uma linha?"
   ]
  },
  {
   "cell_type": "code",
   "execution_count": 4,
   "id": "8f700b08",
   "metadata": {},
   "outputs": [
    {
     "name": "stdout",
     "output_type": "stream",
     "text": [
      "Quantidade de bits do endereço da linha é: 5.0 \n",
      "Quantidade de bits da Tag é: 8.0 \n",
      "Quantidade de bits do endereço do Byte é: 3.0 \n",
      "O total de bits de endereço da mp é: 16.0\n"
     ]
    }
   ],
   "source": [
    "#Para resolver o problema usaremos as fórmulas: \n",
    "#total de bits da cache = total de bits de dados + total de bits tag\n",
    "#B = N/L; Onde B = Quantidade de blocos, N = quantidade de células, L = largura da linha\n",
    "#Total de linhas = capacidade da cache / capacidade da linha\n",
    "#Bits da Tag = math.log(Bloco/Linha, 2)\n",
    "#Bits dos Bytes = math.log(Capacidade da linha, 2)\n",
    "#Bits do end da linha = math.log(Total de linhas, 2)\n",
    "#bits de endereço do bloco = Tag + Linha ou math.log(B, 2)\n",
    "#bits de endereço da MP = math.log(Quantidade de células da MP, 2)\n",
    "#Nota-se, também, que Largura do Bloco da MP = Largura da Linha da Cache.\n",
    "import math\n",
    "L = 2**3\n",
    "N = 2**16\n",
    "B = N/L\n",
    "qtd_linhas = 2**5\n",
    "bloco_por_linha = B / qtd_linhas\n",
    "\n",
    "\n",
    "bits_tag = math.log(bloco_por_linha, 2)\n",
    "bits_linha = math.log(qtd_linhas, 2)\n",
    "bits_byte = math.log(L, 2) \n",
    "total_bits_mp = bits_tag + bits_linha + bits_byte\n",
    "\n",
    "\n",
    "\n",
    "\n",
    "print(\"Quantidade de bits do endereço da linha é:\", bits_linha, \"\\n\" \"Quantidade de bits da Tag é:\", bits_tag, \"\\n\" \"Quantidade de bits do endereço do Byte é:\", bits_byte, \"\\n\" \"O total de bits de endereço da mp é:\", total_bits_mp)\n"
   ]
  },
  {
   "cell_type": "markdown",
   "id": "4cf71809",
   "metadata": {},
   "source": [
    "## 6) Ao se verificar a organização de uma memória cache e da MP de um sistema de computação, observa-se que a cache tem uma capacidade de armazenamento muito menor que a MP e, ainda assim, sabe-se que em 100 acessos do processador à cache ele obtém cerca de 95 a 98% de acertos. Por quê?\n"
   ]
  },
  {
   "cell_type": "markdown",
   "id": "9bc1775c",
   "metadata": {},
   "source": [
    "Devido ao princípio da localidade, onde nem sempre os dados pedidos pelo processador vão estar dentro da memória cache. Afinal, cada linha/conjunto da cache fica responsável por \"n\" blocos da MP."
   ]
  },
  {
   "cell_type": "markdown",
   "id": "d20a3833",
   "metadata": {},
   "source": [
    "##  7) Por que é necessário se estabelecer uma política para substituição de linhas para os métodos de mapeamento associativo e não para o método direto?"
   ]
  },
  {
   "cell_type": "markdown",
   "id": "4ba709bd",
   "metadata": {},
   "source": [
    "Pois, nesses métodos, os blocos da MP não tem um lugar \"predeterminado\" para ocupar dentro dos conjuntos(no caso da associativa por conjuntos) ou da cache (no caso da associativa) e, se não seguirmos as políticas, informações necessárias para a execução de certo programa seriam substituídas por outras, gerando um loop de sucessivas substituições dos blocos da MP dentro da cache, tornando a execução mais lenta."
   ]
  },
  {
   "cell_type": "markdown",
   "id": "9a0bb6b8",
   "metadata": {},
   "source": [
    "## 8) Considere uma MP que possui 4K blocos de 128 células de 1 byte cada e uma memória cache do tipo associativa por conjunto que possui 64 linhas divididas em conjuntos de quatro linhas. Qual deverá ser o formato do campo de endereçamento para acesso à MP e à memória cache?"
   ]
  },
  {
   "cell_type": "code",
   "execution_count": 5,
   "id": "5b58da0b",
   "metadata": {},
   "outputs": [
    {
     "name": "stdout",
     "output_type": "stream",
     "text": [
      "Quantidade de bits tag: 8.0 \n",
      "Quantidade de bits de conjunto: 4.0 \n",
      "Quantidade de bits do endereço do Byte é: 7.0 \n",
      "O total de bits de endereço da mp é: 19.0\n"
     ]
    }
   ],
   "source": [
    "#Para resolver o problema usaremos as fórmulas: \n",
    "#total de bits da cache = total de bits de dados + total de bits tag\n",
    "#B = N/L; Onde B = Quantidade de blocos, N = quantidade de células, L = largura da linha\n",
    "#Total de linhas = capacidade da cache / capacidade da linha\n",
    "#Bits dos Bytes = math.log(Capacidade da linha, 2)\n",
    "#bits de endereço da MP = math.log(Quantidade de células da MP, 2)\n",
    "#Nota-se, também, que Largura do Bloco da MP = Largura da Linha da Cache.\n",
    "import math\n",
    "L = 2**7\n",
    "N = 2**19\n",
    "B = N/L\n",
    "qtd_linhas_conjuntos = 4\n",
    "capacidade_cache = 2**13\n",
    "qtd_linhas = capacidade_cache / L\n",
    "qtd_conjuntos = qtd_linhas / qtd_linhas_conjuntos\n",
    "qtd_blocos_por_conjunto = B / qtd_conjuntos\n",
    "\n",
    "\n",
    "bits_byte = math.log(L,2)\n",
    "campo_tag = math.log(qtd_blocos_por_conjunto, 2)\n",
    "bits_conjunto = math.log(qtd_conjuntos, 2)\n",
    "total_bits_mp = campo_tag + bits_conjunto + bits_byte \n",
    "\n",
    "\n",
    "print(\"Quantidade de bits tag:\", campo_tag, \"\\n\" \"Quantidade de bits de conjunto:\", bits_conjunto, \"\\n\" \"Quantidade de bits do endereço do Byte é:\", bits_byte, \"\\n\" \"O total de bits de endereço da mp é:\", total_bits_mp)\n",
    "\n"
   ]
  },
  {
   "cell_type": "markdown",
   "id": "ac883d56",
   "metadata": {},
   "source": [
    "## 9) Considere um sistema de computação que possui uma memória principal organizada em células de 1 byte cada e apenas uma memória cache externa, organizada com mapeamento direto, sendo cada linha de 32 bytes. Em um dado instante, o processador inicia um acesso colocando no BE comum o endereço hexadecimal: 5D7A9F2, Sabendo-se que neste sistema cada linha da cache tem atribuídos 512 blocos da MP, pergunta-se:"
   ]
  },
  {
   "cell_type": "markdown",
   "id": "20c1b49d",
   "metadata": {},
   "source": [
    "### a) Qual deverá ser a largura do BE do sistema?"
   ]
  },
  {
   "cell_type": "markdown",
   "id": "23828cc6",
   "metadata": {},
   "source": [
    "Considerando que cada algorismo em hexadecimal é equivalente a 4 bits e, como o endereço \"5D7A9F2\" tem 7 algorismos, a largura do BE é: 4 * 7 = 28bits"
   ]
  },
  {
   "cell_type": "markdown",
   "id": "934a0d38",
   "metadata": {},
   "source": [
    "### b) Qual foi a linha acessada pelo processador?"
   ]
  },
  {
   "cell_type": "code",
   "execution_count": 14,
   "id": "66544b57",
   "metadata": {
    "scrolled": true
   },
   "outputs": [
    {
     "name": "stdout",
     "output_type": "stream",
     "text": [
      "Quantidade de bits do endereço da linha é: 14.0 \n",
      "Quantidade de bits da Tag é: 9.0 \n",
      "Quantidade de bits do endereço do Byte é: 5.0 \n",
      "O total de bits de endereço da mp é: 28.0\n",
      "\n",
      "O endereço completo de 3FC92B6 fica assim: 0101110101111010100111110010 \n",
      "\n",
      "A parte do tag fica assim: 010111010\n",
      "A linha acessada pelo processador foi: 11110101001111\n",
      "A parte dos bits de byte ficam assim: 10010\n"
     ]
    }
   ],
   "source": [
    "#Para resolver o problema usaremos as fórmulas: \n",
    "#total de bits da cache = total de bits de dados + total de bits tag\n",
    "#B = N/L; Onde B = Quantidade de blocos, N = quantidade de células, L = largura da linha\n",
    "#Total de linhas = capacidade da cache / capacidade da linha\n",
    "#Bits da Tag = math.log(Bloco/Linha, 2)\n",
    "#Bits dos Bytes = math.log(Capacidade da linha, 2)\n",
    "#Bits do end da linha = math.log(Total de linhas, 2)\n",
    "#bits de endereço do bloco = Tag + Linha ou math.log(B, 2)\n",
    "#bits de endereço da MP = math.log(Quantidade de células da MP, 2)\n",
    "#Nota-se, também, que Largura do Bloco da MP = Largura da Linha da Cache.\n",
    "import math\n",
    "L = 2**5\n",
    "N = 2**28\n",
    "B = N/L\n",
    "bloco_por_linha = 2**9\n",
    "qtd_linhas = B / bloco_por_linha\n",
    "capacidade_cache = qtd_linhas * L\n",
    "\n",
    "\n",
    "\n",
    "bits_tag = math.log(bloco_por_linha, 2)\n",
    "bits_linha = math.log(qtd_linhas, 2)\n",
    "bits_byte = math.log(L, 2) \n",
    "total_bits_mp = bits_tag + bits_linha + bits_byte\n",
    "\n",
    "\n",
    "\n",
    "\n",
    "print(\"Quantidade de bits do endereço da linha é:\", bits_linha, \"\\n\" \"Quantidade de bits da Tag é:\", bits_tag, \"\\n\" \"Quantidade de bits do endereço do Byte é:\", bits_byte, \"\\n\" \"O total de bits de endereço da mp é:\", total_bits_mp)\n",
    "\n",
    "# 5D7A9F2 = 0101110101111010100111110010\n",
    "n = list(\"0101110101111010100111110010\")\n",
    "nstr = \"0101110101111010100111110010\"\n",
    "end_completo = \"\"\n",
    "taglist = []\n",
    "tagliststr = \"\"\n",
    "\n",
    "linhalist = []\n",
    "linhaliststr = \"\"\n",
    "\n",
    "bytelist = []\n",
    "byteliststr = \"\"\n",
    "print(\"\\n\"\"O endereço completo de 3FC92B6 fica assim:\", nstr, \"\\n\")\n",
    "for i in range(int(bits_tag), 0, -1):\n",
    "    tag_end = n.pop(int(0))\n",
    "    taglist.append(tag_end)\n",
    "print(\"A parte do tag fica assim:\", tagliststr.join(taglist))\n",
    "\n",
    "for i in range(int(bits_linha), 0, -1):\n",
    "    list_end = n.pop(int(0))\n",
    "    linhalist.append(list_end)\n",
    "print(\"A linha acessada pelo processador foi:\", linhaliststr.join(linhalist))\n",
    "\n",
    "for i in range(int(bits_byte), 0, -1):\n",
    "    byte_end = n.pop(int(0))\n",
    "    bytelist.append(byte_end)\n",
    "print(\"A parte dos bits de byte ficam assim:\", byteliststr.join(bytelist))\n"
   ]
  },
  {
   "cell_type": "markdown",
   "id": "f0e2bd26",
   "metadata": {},
   "source": [
    "## 11) Considere uma memória cache organizada com mapeamento associativo por conjunto, sendo cada conjunto de quatro linhas. A MP tem uma capacidade de armazenar 64MB, sendo organizada byte a byte, e o sistema transfere de cada vez (MP <— — >cache) 32 bytes. Considerando que a capacidade da cache é de 64KB, mostre como deve ser o formato dos campos de endereço para a memória cache.\n"
   ]
  },
  {
   "cell_type": "code",
   "execution_count": 16,
   "id": "c809db34",
   "metadata": {},
   "outputs": [
    {
     "name": "stdout",
     "output_type": "stream",
     "text": [
      "Quantidade de bits tag: 12.0 \n",
      "Quantidade de bits de conjunto: 9.0 \n",
      "Quantidade de bits do endereço do Byte é: 5.0 \n",
      "O total de bits de endereço da mp é: 26.0\n"
     ]
    }
   ],
   "source": [
    "#Para resolver o problema usaremos as fórmulas: \n",
    "#total de bits da cache = total de bits de dados + total de bits tag\n",
    "#B = N/L; Onde B = Quantidade de blocos, N = quantidade de células, L = largura da linha\n",
    "#Total de linhas = capacidade da cache / capacidade da linha\n",
    "#Bits dos Bytes = math.log(Capacidade da linha, 2)\n",
    "#bits de endereço da MP = math.log(Quantidade de células da MP, 2)\n",
    "#Nota-se, também, que Largura do Bloco da MP = Largura da Linha da Cache.\n",
    "import math\n",
    "L = 2**5\n",
    "N = 2**26\n",
    "B = N/L\n",
    "qtd_linhas_conjuntos = 4\n",
    "capacidade_cache = 2**16\n",
    "qtd_linhas = capacidade_cache / L\n",
    "qtd_conjuntos = qtd_linhas / qtd_linhas_conjuntos\n",
    "qtd_blocos_por_conjunto = B / qtd_conjuntos\n",
    "\n",
    "\n",
    "bits_byte = math.log(L,2)\n",
    "campo_tag = math.log(qtd_blocos_por_conjunto, 2)\n",
    "bits_conjunto = math.log(qtd_conjuntos, 2)\n",
    "total_bits_mp = campo_tag + bits_conjunto + bits_byte \n",
    "\n",
    "\n",
    "print(\"Quantidade de bits tag:\", campo_tag, \"\\n\" \"Quantidade de bits de conjunto:\", bits_conjunto, \"\\n\" \"Quantidade de bits do endereço do Byte é:\", bits_byte, \"\\n\" \"O total de bits de endereço da mp é:\", total_bits_mp)\n"
   ]
  },
  {
   "cell_type": "markdown",
   "id": "e78cf85a",
   "metadata": {},
   "source": [
    "## 13) Considere um sistema de armazenamento constituído de uma memória principal, que é endereçada por byte e que tem uma capacidade de 256KB, sendo organizada em blocos de 16 bytes de largura. Considerando que se usa neste sistema o método de mapeamento direto para uma cache constituída de 128 linhas, pergunta-se:\n",
    "\n",
    "\n",
    "\n"
   ]
  },
  {
   "cell_type": "markdown",
   "id": "e88d958c",
   "metadata": {},
   "source": [
    "### a) Qual deverá ser o formato do endereço a ser interpretado pelo sistema de controle da cache, indicando a largura de cada campo?"
   ]
  },
  {
   "cell_type": "code",
   "execution_count": 48,
   "id": "7208e19a",
   "metadata": {},
   "outputs": [
    {
     "name": "stdout",
     "output_type": "stream",
     "text": [
      "Quantidade de bits do endereço da linha é: 7.0 \n",
      "Quantidade de bits da Tag é: 17.0 \n",
      "Quantidade de bits do endereço do Byte é: 4.0 \n",
      "O total de bits de endereço da mp é: 28.0\n"
     ]
    }
   ],
   "source": [
    "#Para resolver o problema usaremos as fórmulas: \n",
    "#total de bits da cache = total de bits de dados + total de bits tag\n",
    "#B = N/L; Onde B = Quantidade de blocos, N = quantidade de células, L = largura da linha\n",
    "#Total de linhas = capacidade da cache / capacidade da linha\n",
    "#Bits da Tag = math.log(Bloco/Linha, 2)\n",
    "#Bits dos Bytes = math.log(Capacidade da linha, 2)\n",
    "#Bits do end da linha = math.log(Total de linhas, 2)\n",
    "#bits de endereço do bloco = Tag + Linha ou math.log(B, 2)\n",
    "#bits de endereço da MP = math.log(Quantidade de células da MP, 2)\n",
    "#Nota-se, também, que Largura do Bloco da MP = Largura da Linha da Cache.\n",
    "import math\n",
    "L = 2**4\n",
    "N = 2**28\n",
    "B = N/L\n",
    "qtd_linhas = 2**7\n",
    "bloco_por_linha = B / qtd_linhas\n",
    "\n",
    "\n",
    "bits_tag = math.log(bloco_por_linha, 2)\n",
    "bits_linha = math.log(qtd_linhas, 2)\n",
    "bits_byte = math.log(L, 2) \n",
    "total_bits_mp = bits_tag + bits_linha + bits_byte\n",
    "\n",
    "\n",
    "\n",
    "\n",
    "print(\"Quantidade de bits do endereço da linha é:\", bits_linha, \"\\n\" \"Quantidade de bits da Tag é:\", bits_tag, \"\\n\" \"Quantidade de bits do endereço do Byte é:\", bits_byte, \"\\n\" \"O total de bits de endereço da mp é:\", total_bits_mp)\n",
    "\n"
   ]
  },
  {
   "cell_type": "markdown",
   "id": "fcf2db03",
   "metadata": {},
   "source": [
    "### b) Em que linhas deverão ser armazenados os bytes que possuam os seguintes endereços:\n",
    "#### — 1011 1110 0010 1001 1101 0000 1100 ?\n",
    "#### — 0001 1010 0011 0001 0111 1000 1111 ?"
   ]
  },
  {
   "cell_type": "code",
   "execution_count": null,
   "id": "1d4817a4",
   "metadata": {},
   "outputs": [],
   "source": []
  },
  {
   "cell_type": "markdown",
   "id": "789f1c9b",
   "metadata": {},
   "source": [
    "### c) Qual deverá ser o total de bits consumido nessa cache?"
   ]
  },
  {
   "cell_type": "code",
   "execution_count": null,
   "id": "7cf44819",
   "metadata": {},
   "outputs": [],
   "source": []
  },
  {
   "cell_type": "markdown",
   "id": "8dfb42e6",
   "metadata": {},
   "source": [
    "### d) Qual deverá ser o endereço do bloco que contém um byte como seguinte endereço:\n",
    "#### 0010 1110 1001 0001 1110 0011 1110 ? "
   ]
  },
  {
   "cell_type": "code",
   "execution_count": null,
   "id": "5c265fa8",
   "metadata": {},
   "outputs": [],
   "source": []
  },
  {
   "cell_type": "markdown",
   "id": "a79a26ac",
   "metadata": {},
   "source": [
    "## 14) Considere um sistema de armazenamento com MP endereçada por byte, onde cada endereço tem uma largura de 30 bits e uma memória cache constituída de 256KB, possuindo L linhas com largura de 16 bytes. Calcule o total de bits da memória cache para um dos métodos de mapeamento:direto, associativo e associativo por conjunto."
   ]
  },
  {
   "cell_type": "markdown",
   "id": "36321864",
   "metadata": {},
   "source": [
    "### Mapeamento direto:"
   ]
  },
  {
   "cell_type": "code",
   "execution_count": 34,
   "id": "02931c55",
   "metadata": {},
   "outputs": [
    {
     "name": "stdout",
     "output_type": "stream",
     "text": [
      "O total de bits é: 2293760 ou, aproximadamente, 2Mbits\n"
     ]
    }
   ],
   "source": [
    "#Para resolver o problema usaremos as fórmulas: \n",
    "#total de bits da cache = total de bits de dados + total de bits tag\n",
    "#B = N/L; Onde B = Quantidade de blocos, N = quantidade de células, L = largura da linha\n",
    "#Total de linhas = capacidade da cache / capacidade da linha\n",
    "#Bits da Tag = math.log(Bloco/Linha, 2)\n",
    "#Bits dos Bytes = math.log(Capacidade da linha, 2)\n",
    "#Bits do end da linha = math.log(Total de linhas, 2)\n",
    "#bits de endereço do bloco = Tag + Linha ou math.log(B, 2)\n",
    "#bits de endereço da MP = math.log(Quantidade de células da MP, 2)\n",
    "#Nota-se, também, que Largura do Bloco da MP = Largura da Linha da Cache.\n",
    "import math\n",
    "L = 2**4\n",
    "N = 2**30\n",
    "B = N/L\n",
    "\n",
    "\n",
    "capacidade_cache = 2**18\n",
    "qtd_linhas = capacidade_cache / L\n",
    "bloco_por_linha = B / qtd_linhas\n",
    "\n",
    "\n",
    "bits_tag = math.log((bloco_por_linha), 2)\n",
    "\n",
    "total_bits_dado = capacidade_cache * 8\n",
    "total_bits_tag = qtd_linhas * bits_tag\n",
    "total_bits = total_bits_dado + total_bits_tag\n",
    "print(\"O total de bits é:\",int(total_bits), \"ou, aproximadamente, 2.1Mbits\")"
   ]
  },
  {
   "cell_type": "markdown",
   "id": "814212c0",
   "metadata": {},
   "source": [
    "### Mapeamento Associativo:"
   ]
  },
  {
   "cell_type": "code",
   "execution_count": 26,
   "id": "cdacf7cc",
   "metadata": {},
   "outputs": [
    {
     "name": "stdout",
     "output_type": "stream",
     "text": [
      "O total de bits é: 2523136 ou, aproximadamente, 2.5Mbits\n"
     ]
    }
   ],
   "source": [
    "#Para resolver o problema usaremos as fórmulas: \n",
    "#total de bits da cache = total de bits de dados + total de bits tag\n",
    "#B = N/L; Onde B = Quantidade de blocos, N = quantidade de células, L = largura da linha\n",
    "#Total de linhas = capacidade da cache / capacidade da linha\n",
    "#Bits dos Bytes = math.log(Capacidade da linha, 2)\n",
    "#bits de endereço da MP = math.log(Quantidade de células da MP, 2)\n",
    "#Nota-se, também, que Largura do Bloco da MP = Largura da Linha da Cache.\n",
    "import math\n",
    "L = 2**4\n",
    "N = 2**30\n",
    "B = N/L\n",
    "bits_campo_bloco = math.log(B,2)\n",
    "capacidade_cache = 2**18\n",
    "qtd_linhas = capacidade_cache / L\n",
    "bloco_por_linha = B / qtd_linhas\n",
    "\n",
    "\n",
    "bits_tag = math.log((bloco_por_linha), 2)\n",
    "\n",
    "total_bits_dado = capacidade_cache * 8\n",
    "total_bits_bloco = qtd_linhas * bits_campo_bloco\n",
    "total_bits = total_bits_dado + total_bits_bloco\n",
    "print(\"O total de bits é:\",int(total_bits), \"ou, aproximadamente, 2.4Mbits\")"
   ]
  },
  {
   "cell_type": "markdown",
   "id": "e07fd044",
   "metadata": {},
   "source": [
    "## 15) Considere um sistema de armazenamento onde a MP é endereçada por byte, que utiliza o método de mapeamento direto na sua cache e onde o formato dos endereços interpretados pelo sistema de controle é:"
   ]
  },
  {
   "cell_type": "markdown",
   "id": "24b6bc90",
   "metadata": {},
   "source": [
    "### Tag = 8bits | Linha = 12 bits | Byte = 4bits"
   ]
  },
  {
   "cell_type": "markdown",
   "id": "be3bef39",
   "metadata": {},
   "source": [
    "### a) Qual a capacidade de armazenamento da MP, em bytes?"
   ]
  },
  {
   "cell_type": "code",
   "execution_count": 43,
   "id": "a670aa36",
   "metadata": {},
   "outputs": [
    {
     "name": "stdout",
     "output_type": "stream",
     "text": [
      "Endereço da MP em bit:  24\n",
      "Capacidade da MP:  16777216 ou 16MB\n"
     ]
    }
   ],
   "source": [
    "Tag = 8\n",
    "Linha = 12\n",
    "Byte = 4\n",
    "Endereço_Mp = Tag + Linha + Byte\n",
    "print(\"Endereço da MP em bit: \", Endereço_Mp)\n",
    "Capacidade_Mp = 2**Endereço_Mp\n",
    "print(\"Capacidade da MP: \", Capacidade_Mp, \"ou 16MB\")\n"
   ]
  },
  {
   "cell_type": "markdown",
   "id": "cda76b38",
   "metadata": {},
   "source": [
    "### b) Quantas linhas possui a memória cache?"
   ]
  },
  {
   "cell_type": "code",
   "execution_count": 46,
   "id": "13f1c2ac",
   "metadata": {},
   "outputs": [
    {
     "name": "stdout",
     "output_type": "stream",
     "text": [
      "Possue:  4096 linhas ou 4K\n"
     ]
    }
   ],
   "source": [
    "Linha = 12\n",
    "Quantidade_Linhas = 2**Linha\n",
    "print(\"Possue: \", Quantidade_Linhas, \"linhas ou 4K\")"
   ]
  },
  {
   "cell_type": "markdown",
   "id": "746715cf",
   "metadata": {},
   "source": [
    "### c) Qual é a largura de cada bloco/linha?\n"
   ]
  },
  {
   "cell_type": "code",
   "execution_count": 49,
   "id": "32ebdf2f",
   "metadata": {},
   "outputs": [
    {
     "name": "stdout",
     "output_type": "stream",
     "text": [
      "A largura do bloco/linha é: 16bits \n"
     ]
    }
   ],
   "source": [
    "Byte = 4\n",
    "Largura_bloco_linha = 2**Byte\n",
    "print(f'A largura do bloco/linha é: {Largura_bloco_linha}bits ')"
   ]
  },
  {
   "cell_type": "markdown",
   "id": "17aa2e0b",
   "metadata": {},
   "source": [
    "### d) Qual é a quantidade de blocos atribuído a cada linha da cache?"
   ]
  },
  {
   "cell_type": "code",
   "execution_count": 51,
   "id": "55531873",
   "metadata": {},
   "outputs": [
    {
     "name": "stdout",
     "output_type": "stream",
     "text": [
      "A quantidade de blocos por linhas é: 256.0 bloco/linha\n"
     ]
    }
   ],
   "source": [
    "Tag = 8\n",
    "Linha = 12\n",
    "Byte = 4\n",
    "N = 2**(Tag + Linha + Byte)\n",
    "L = 2**Byte\n",
    "B = N/L\n",
    "qtd_linhas = 2**Linha\n",
    "bloco_por_linha = B / qtd_linhas\n",
    "print(f\"A quantidade de blocos por linhas é: {bloco_por_linha} bloco/linha\")\n"
   ]
  },
  {
   "cell_type": "markdown",
   "id": "796a90bb",
   "metadata": {},
   "source": [
    "## 16) Supondo que esse sistema utilize o método de mapeamento associativo por conjunto de 4 e que o formato do endereço de cache é:"
   ]
  },
  {
   "cell_type": "markdown",
   "id": "6ec24a23",
   "metadata": {},
   "source": [
    "### Tag = 8bits | Conjunto= 8 bits | Byte = 4bits"
   ]
  },
  {
   "cell_type": "markdown",
   "id": "372e50d8",
   "metadata": {},
   "source": [
    "### a) Qual a capacidade de armazenamento da MP, em bytes?"
   ]
  },
  {
   "cell_type": "code",
   "execution_count": 1,
   "id": "23ff586a",
   "metadata": {},
   "outputs": [
    {
     "name": "stdout",
     "output_type": "stream",
     "text": [
      "Esse é o armazenamento da MP: 1048576 ou 1M\n"
     ]
    }
   ],
   "source": [
    "Tag = 8\n",
    "Conjunto = 8\n",
    "Byte = 4\n",
    "Armazen_Mp = 2**(Tag + Conjunto + Byte)\n",
    "print(f\"Esse é o armazenamento da MP: {Armazen_Mp} ou 1M\")\n"
   ]
  },
  {
   "cell_type": "markdown",
   "id": "61256eac",
   "metadata": {},
   "source": [
    "### b) Quantas linhas possui a memória cache?"
   ]
  },
  {
   "cell_type": "code",
   "execution_count": 11,
   "id": "a0ad2cbf",
   "metadata": {},
   "outputs": [
    {
     "name": "stdout",
     "output_type": "stream",
     "text": [
      "Essa é a quantidade de linhas: 1024 ou 1K linhas\n"
     ]
    }
   ],
   "source": [
    "Byte = 4\n",
    "qtd_linhas_conjuntos = 4\n",
    "bit_conjunto = 8\n",
    "qtd_conjuntos = 2**bit_conjunto\n",
    "qtd_linhas = qtd_linhas_conjuntos * qtd_conjuntos\n",
    "print(f\"Essa é a quantidade de linhas: {qtd_linhas} ou 1K linhas\")\n",
    "\n"
   ]
  },
  {
   "cell_type": "markdown",
   "id": "baaa381a",
   "metadata": {},
   "source": [
    "### c) Quantos conjuntos possui a memória cache?"
   ]
  },
  {
   "cell_type": "code",
   "execution_count": 10,
   "id": "ded23981",
   "metadata": {},
   "outputs": [
    {
     "name": "stdout",
     "output_type": "stream",
     "text": [
      "Essa é a quantidade de conjuntos que a memória cache possui:256\n"
     ]
    }
   ],
   "source": [
    "bit_conjunto = 8\n",
    "qtd_conjuntos = 2**bit_conjunto\n",
    "print(f\"Essa é a quantidade de conjuntos que a memória cache possui:{qtd_conjuntos}\")"
   ]
  },
  {
   "cell_type": "markdown",
   "id": "b4f062e4",
   "metadata": {},
   "source": [
    "### d) Qual é a largura de cada bloco/linha?\n"
   ]
  },
  {
   "cell_type": "code",
   "execution_count": 16,
   "id": "22351e4f",
   "metadata": {},
   "outputs": [
    {
     "name": "stdout",
     "output_type": "stream",
     "text": [
      "Essa é a largura de cada bloco/linha: 16\n"
     ]
    }
   ],
   "source": [
    "Byte = 4\n",
    "print(f'Essa é a largura de cada bloco/linha: {2**Byte}')\n"
   ]
  },
  {
   "cell_type": "markdown",
   "id": "397f1b3e",
   "metadata": {},
   "source": [
    "### e) Qual é a quantidade de blocos atribuído a cada linha da cache?"
   ]
  },
  {
   "cell_type": "code",
   "execution_count": 23,
   "id": "916427ed",
   "metadata": {},
   "outputs": [
    {
     "name": "stdout",
     "output_type": "stream",
     "text": [
      "Essa é a quantidade de blocos por linha: 64.0\n",
      "Essa é a quantidade de blocos por conjunto:256\n"
     ]
    }
   ],
   "source": [
    "L = 2**4\n",
    "N = 2**20\n",
    "B = N/L\n",
    "qtd_linhas_conjuntos = 4\n",
    "bit_conjunto = 8\n",
    "qtd_conjuntos = 2**bit_conjunto\n",
    "qtd_linhas = qtd_linhas_conjuntos * qtd_conjuntos\n",
    "blocos_linhas = B /qtd_linhas \n",
    "print(f\"Essa é a quantidade de blocos por linha: {blocos_linhas}\")\n",
    "\n",
    "Tag = 8\n",
    "bloco_conjunto = 2**Tag\n",
    "print(f\"Essa é a quantidade de blocos por conjunto:{bloco_conjunto}\")"
   ]
  }
 ],
 "metadata": {
  "kernelspec": {
   "display_name": "Python 3",
   "language": "python",
   "name": "python3"
  },
  "language_info": {
   "codemirror_mode": {
    "name": "ipython",
    "version": 3
   },
   "file_extension": ".py",
   "mimetype": "text/x-python",
   "name": "python",
   "nbconvert_exporter": "python",
   "pygments_lexer": "ipython3",
   "version": "3.8.8"
  }
 },
 "nbformat": 4,
 "nbformat_minor": 5
}
