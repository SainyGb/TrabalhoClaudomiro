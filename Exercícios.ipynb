{
 "cells": [
  {
   "cell_type": "markdown",
   "id": "cec0f79a",
   "metadata": {},
   "source": [
    "# Exercícios"
   ]
  },
  {
   "cell_type": "markdown",
   "id": "43b982f8",
   "metadata": {},
   "source": [
    "1) Um computador possui uma memória principal com capacidade para armazenar palavras de 16 bits em cada uma de suas N células, e o seu barramento de endereços tem 12 bits de tamanho. Sabendo-se que em cada célula pode-se armazenar o Valor exato de uma palavra, quantos bytes poderão ser armazenados nessa memória?"
   ]
  },
  {
   "cell_type": "code",
   "execution_count": null,
   "id": "507011ed",
   "metadata": {},
   "outputs": [],
   "source": []
  }
 ],
 "metadata": {
  "kernelspec": {
   "display_name": "Python 3",
   "language": "python",
   "name": "python3"
  },
  "language_info": {
   "codemirror_mode": {
    "name": "ipython",
    "version": 3
   },
   "file_extension": ".py",
   "mimetype": "text/x-python",
   "name": "python",
   "nbconvert_exporter": "python",
   "pygments_lexer": "ipython3",
   "version": "3.8.8"
  }
 },
 "nbformat": 4,
 "nbformat_minor": 5
}
