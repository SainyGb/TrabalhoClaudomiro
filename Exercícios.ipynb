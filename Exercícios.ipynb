{
 "cells": [
  {
   "cell_type": "markdown",
   "id": "3ba466e0",
   "metadata": {},
   "source": [
    "# Exercícios"
   ]
  },
  {
   "cell_type": "markdown",
   "id": "d37e8a22",
   "metadata": {},
   "source": [
    "#### 1) Um computador possui uma memória principal com capacidade para armazenar palavras de 16 bits em cada uma de suas N células, e o seu barramento de endereços tem 12 bits de tamanho. Sabendo-se que em cada célula pode-se armazenar o Valor exato de uma palavra, quantos bytes poderão ser armazenados nessa memória?"
   ]
  },
  {
   "cell_type": "code",
   "execution_count": 186,
   "id": "42f22027",
   "metadata": {},
   "outputs": [
    {
     "name": "stdout",
     "output_type": "stream",
     "text": [
      "Esse seria o resultado em bits: 65536\n",
      "Esse seria o resultado em bytes, aproximadamente: 8192 ou então: 8KB\n"
     ]
    }
   ],
   "source": [
    "#Considerando a fórmula: M.N = Capacidade total; Onde M = capacidade da célula e N = número de células\n",
    "#Para calcular N, usamos => 2**n = N; Onde \"n\" = tamanho do endereço em bits. Logo:\n",
    "#Nota: considere os cálculos apenas aproximações, pois o python interpreta as contas diferente\n",
    "M = 2**4\n",
    "N = 2**12\n",
    "print(\"Esse seria o resultado em bits:\", M*N)\n",
    "#Transformando em bytes:\n",
    "print(\"Esse seria o resultado em bytes, aproximadamente:\", int((M*N)/2**3), \"ou então: 8KB\")\n",
    "\n",
    "\n"
   ]
  },
  {
   "cell_type": "markdown",
   "id": "247c4d2d",
   "metadata": {},
   "source": [
    "#### 2) O que você entende por acesso à memória? Caracterize o tempo de acesso nos diversos tipo de memória."
   ]
  },
  {
   "cell_type": "markdown",
   "id": "9ac0b6d1",
   "metadata": {},
   "source": [
    "É a ação de localizar a posição de uma memória e efetuar alguma operação. Do maior para o menor, o tempo de acesso nas memórias é, respectivamente: Registradores, Memória Cache, Memória Principal, Memória Secundária."
   ]
  },
  {
   "cell_type": "markdown",
   "id": "c197ad80",
   "metadata": {},
   "source": [
    "#### 3) Quais são as possíveis operações que podem ser realizadas em uma memória ?"
   ]
  },
  {
   "cell_type": "markdown",
   "id": "585539f9",
   "metadata": {},
   "source": [
    "Leitura e escrita."
   ]
  },
  {
   "cell_type": "markdown",
   "id": "baaa0423",
   "metadata": {},
   "source": [
    "#### 5) Qual é a diferença,em termos de endereço, conteúdo e total de bits, entre as seguintes organizações de MP:\n",
    "\n",
    " "
   ]
  },
  {
   "cell_type": "markdown",
   "id": "6ca13b19",
   "metadata": {},
   "source": [
    "##### a) memória A: 32K célula de 8 bits cada;"
   ]
  },
  {
   "cell_type": "code",
   "execution_count": 191,
   "id": "5677c3bf",
   "metadata": {},
   "outputs": [
    {
     "name": "stdout",
     "output_type": "stream",
     "text": [
      "Esse é a capacidade total, o tamanho do endereço em bits e o conteúdo, respectivamente: 262144 (ou 256K) , 15 bits de endereço, 8 bits\n"
     ]
    }
   ],
   "source": [
    "#Considerando a fórmula: M.N = Capacidade total; Onde M = capacidade da célula e N = número de células\n",
    "#Para calcular N, usamos => 2**n = N; Onde \"n\" = tamanho do endereço em bits. Logo:\n",
    "#Nota: considere os cálculos apenas aproximações, pois o python interpreta as contas diferente\n",
    "import math\n",
    "n = int(math.log(2**15, 2))\n",
    "M = 2**3\n",
    "N = 2**15\n",
    "print(\"Esse é a capacidade total, o tamanho do endereço em bits e o conteúdo, respectivamente:\", M*N, \"(ou 256K)\", \",\", n,\"bits de endereço,\", M, \"bits\")"
   ]
  },
  {
   "cell_type": "markdown",
   "id": "362b8e79",
   "metadata": {},
   "source": [
    "##### b) memória B: 16K célula de 16 bit  cada; e :"
   ]
  },
  {
   "cell_type": "code",
   "execution_count": 192,
   "id": "87ee449d",
   "metadata": {},
   "outputs": [
    {
     "name": "stdout",
     "output_type": "stream",
     "text": [
      "Esse é a capacidade total, o tamanho do endereço em bits e o conteúdo, respectivamente: 262144 (ou 256K) , 14 bits de endereço, 16 bits\n"
     ]
    }
   ],
   "source": [
    "#Considerando a fórmula: M.N = Capacidade total; Onde M = capacidade da célula e N = número de células\n",
    "#Para calcular N, usamos => 2**n = N; Onde \"n\" = tamanho do endereço em bits. Logo:\n",
    "#Nota: considere os cálculos apenas aproximações, pois o python interpreta as contas diferente\n",
    "import math\n",
    "n = int(math.log(2**14, 2))\n",
    "M = 2**4\n",
    "N = 2**14\n",
    "print(\"Esse é a capacidade total, o tamanho do endereço em bits e o conteúdo, respectivamente:\", M*N, \"(ou 256K)\", \",\", n,\"bits de endereço,\", M, \"bits\")"
   ]
  },
  {
   "cell_type": "markdown",
   "id": "750a1c78",
   "metadata": {},
   "source": [
    "##### c) memória C: 16k célula de 8 bits cada."
   ]
  },
  {
   "cell_type": "code",
   "execution_count": 193,
   "id": "64b1a3b8",
   "metadata": {},
   "outputs": [
    {
     "name": "stdout",
     "output_type": "stream",
     "text": [
      "Esse é a capacidade total, o tamanho do endereço em bits e o conteúdo, respectivamente: 131072 (ou 128K) , 14 bits de endereço, 8 bits\n"
     ]
    }
   ],
   "source": [
    "#Considerando a fórmula: M.N = Capacidade total; Onde M = capacidade da célula e N = número de células\n",
    "#Para calcular N, usamos => 2**n = N; Onde \"n\" = tamanho do endereço em bits. Logo:\n",
    "#Nota: considere os cálculos apenas aproximações, pois o python interpreta as contas diferente\n",
    "import math\n",
    "n = int(math.log(2**14, 2))\n",
    "M = 2**3\n",
    "N = 2**14\n",
    "print(\"Esse é a capacidade total, o tamanho do endereço em bits e o conteúdo, respectivamente:\", M*N, \"(ou 128K)\", \",\", n,\"bits de endereço,\", M, \"bits\")"
   ]
  },
  {
   "cell_type": "markdown",
   "id": "90b929e8",
   "metadata": {},
   "source": [
    "#### 6) Qual a função do registrador de endereços de memória (REM)? E do registrador de dados de memória (RDM)?"
   ]
  },
  {
   "cell_type": "markdown",
   "id": "97ca1482",
   "metadata": {},
   "source": [
    "A função da REM é armazenar temporariamente o endereço de uma determinada célula ao iniciar uma determinada operação. Já a função do RDM é armazenar temporariamente uma informação que esteja sendo transferida da memória principal para a UCP ( no caso da leitura) ou da UCP para a memória (escrita)."
   ]
  },
  {
   "cell_type": "markdown",
   "id": "64e44b7f",
   "metadata": {},
   "source": [
    "#### 7) Descreva  os barramentos que interligam processador e MP, indicando função e direção do fluxo de sinais de cada um."
   ]
  },
  {
   "cell_type": "markdown",
   "id": "7425819b",
   "metadata": {},
   "source": [
    "Barramento de endereços: liga a UCP à MP(memória principal), transferindo um endereço. Direção unidirecional, a informação vai da UCP pra MP obrigatoriamente.\n"
   ]
  },
  {
   "cell_type": "markdown",
   "id": "d1647741",
   "metadata": {},
   "source": [
    "Barramento de controle: Liga a UCP à MP, passagem dos sinais de controle de leitura e escrita."
   ]
  },
  {
   "cell_type": "markdown",
   "id": "8776b751",
   "metadata": {},
   "source": [
    "Barramento de dados: interliga a UCP à MP, tranferindo a informação. Bidirecional, ou seja, os bits podem passar da UCP pra MP (escrita) ou vice-versa(leitura)"
   ]
  },
  {
   "cell_type": "markdown",
   "id": "123f059e",
   "metadata": {},
   "source": [
    "#### 8) Descreva passo a passo uma operação de leitura. Utilize um diagrama esquemático."
   ]
  },
  {
   "cell_type": "markdown",
   "id": "960a85d9",
   "metadata": {},
   "source": [
    "Como diagrama esquemático, estarei utilizando a LTR (Linguagem\n",
    "de Transferência entre Registradores):"
   ]
  },
  {
   "cell_type": "markdown",
   "id": "91157fb9",
   "metadata": {},
   "source": [
    "1. REM <- de outro registrador do processador"
   ]
  },
  {
   "cell_type": "markdown",
   "id": "45067fd7",
   "metadata": {},
   "source": [
    "1.1. O endereço é colocado no BE."
   ]
  },
  {
   "cell_type": "markdown",
   "id": "59cef13e",
   "metadata": {},
   "source": [
    "2. Sinal de leitura no BC."
   ]
  },
  {
   "cell_type": "markdown",
   "id": "347d52c5",
   "metadata": {},
   "source": [
    "2.1. Decodificação do endereço e localização da célula (controlador de memória)"
   ]
  },
  {
   "cell_type": "markdown",
   "id": "b007d6cd",
   "metadata": {},
   "source": [
    "3. RDM <- MP(REM) pelo BD."
   ]
  },
  {
   "cell_type": "markdown",
   "id": "328897f2",
   "metadata": {},
   "source": [
    "4. Para outro registrador <- RDM"
   ]
  },
  {
   "cell_type": "markdown",
   "id": "13632567",
   "metadata": {},
   "source": [
    "#### 9) Faça o mesmo para uma operação de escrita."
   ]
  },
  {
   "cell_type": "markdown",
   "id": "cccd5376",
   "metadata": {},
   "source": [
    "De novo, utilizarei a LTR como diagrama:\n"
   ]
  },
  {
   "cell_type": "markdown",
   "id": "afbdf1f6",
   "metadata": {},
   "source": [
    "1. REM <- (outro registrador); O processador coloca o endereço no REM."
   ]
  },
  {
   "cell_type": "markdown",
   "id": "40f0136b",
   "metadata": {},
   "source": [
    "1.1. O endereço é colocado no BE."
   ]
  },
  {
   "cell_type": "markdown",
   "id": "ac915e36",
   "metadata": {},
   "source": [
    "2. (RDM) <- (outro registrador); O processador coloca no RDM o dado a ser transferido."
   ]
  },
  {
   "cell_type": "markdown",
   "id": "893ed39e",
   "metadata": {},
   "source": [
    "3. Sinal de escrita; O Processador aciona o sinal de escrita pelo BC"
   ]
  },
  {
   "cell_type": "markdown",
   "id": "03603b77",
   "metadata": {},
   "source": [
    "4. (MP(REM)) <- (RDM); O dado é transferido para a célula de memória pelo BD."
   ]
  },
  {
   "cell_type": "markdown",
   "id": "e12df567",
   "metadata": {},
   "source": [
    "#### 10 ) Um computador possui um RDM com 16 bits de tamanho e um REM com capacidade para armazenar números com 20 bits. sabe-se que a célula desse computador armazena dados com 8 bits de tamanho e que ele possui uma quantidade N de células,igual à capacidade máxima de armazenamento. Pergunta-se :\n",
    "\n",
    "\n"
   ]
  },
  {
   "cell_type": "markdown",
   "id": "71acddcc",
   "metadata": {},
   "source": [
    "##### a) Qual é o tamanho do barramento de endereço?"
   ]
  },
  {
   "cell_type": "markdown",
   "id": "ae0b5595",
   "metadata": {},
   "source": [
    "Considerando que o REM é igual ao BE, o BE tem 20 bits de tamanho\n"
   ]
  },
  {
   "cell_type": "markdown",
   "id": "c238764a",
   "metadata": {},
   "source": [
    "##### b) Quantas células de memória  são lidas em uma única operação de leitura?"
   ]
  },
  {
   "cell_type": "markdown",
   "id": "3f1d56aa",
   "metadata": {},
   "source": [
    "Sabemos que uma única célula tem a capacidade de armazenar dados de 8 bits e que o RDM recebe 16 bits de dados, logo, em uma única operação de leitura, são lidas 2 células"
   ]
  },
  {
   "cell_type": "markdown",
   "id": "f5b19069",
   "metadata": {},
   "source": [
    "##### c) Quanto bits tem a memória principal?"
   ]
  },
  {
   "cell_type": "code",
   "execution_count": 142,
   "id": "8c9b1871",
   "metadata": {},
   "outputs": [
    {
     "name": "stdout",
     "output_type": "stream",
     "text": [
      "Esse é a capacidade total: 8388608 ou 8Mbits\n"
     ]
    }
   ],
   "source": [
    "#Considerando a fórmula: M.N = Capacidade total; Onde M = capacidade da célula e N = número de células\n",
    "#Para calcular N, usamos => 2**n = N; Onde \"n\" = tamanho do endereço em bits. Logo:\n",
    "#Nota: considere os cálculos apenas aproximações, pois o python interpreta as contas diferente\n",
    "import math\n",
    "M = 2**3\n",
    "N = 2**20\n",
    "print(\"Esse é a capacidade total:\", M*N, \"ou 8Mbits\")"
   ]
  },
  {
   "cell_type": "markdown",
   "id": "3a2e77ee",
   "metadata": {},
   "source": [
    "#### 11) Um  microcomputador possui uma  capacidade máxima de memória principal(RAM) com 32K  células, cada uma capaz de armazenar uma palavra de 8 bits. Pergunta-se :\n",
    "\n",
    "\n",
    "\n"
   ]
  },
  {
   "cell_type": "markdown",
   "id": "b675f755",
   "metadata": {},
   "source": [
    "##### a) Qual é o maior endereço, em decimal, dessa memória?"
   ]
  },
  {
   "cell_type": "code",
   "execution_count": 143,
   "id": "44ddfc14",
   "metadata": {},
   "outputs": [
    {
     "name": "stdout",
     "output_type": "stream",
     "text": [
      "O tamanho do endereço é, em bits: 15 Considenrando isso, o maior endereço em binário seria o número '1' 15 vezes(111111111111111), onde, o equivalente em decimal é: 32767\n"
     ]
    }
   ],
   "source": [
    "#Considerando a fórmula: M.N = Capacidade total; Onde M = capacidade da célula e N = número de células\n",
    "#Para calcular N, usamos => 2**n = N; Onde \"n\" = tamanho do endereço em bits. Logo:\n",
    "#Nota: considere os cálculos apenas aproximações, pois o python interpreta as contas diferente\n",
    "import math\n",
    "n = int(math.log(2**15, 2))\n",
    "M = 2**3\n",
    "N = 2**15\n",
    "\n",
    "\n",
    "\n",
    "nu = list('111111111111111')\n",
    "n1 = list('0')\n",
    "count = len(n1) + 1\n",
    "f = 0\n",
    "f1 = 0\n",
    "\n",
    "for i in range(len(nu)):\n",
    "#  print(len(nu))\n",
    "#  print(nu)\n",
    "#  print(\"esse é o i:\", i)\n",
    "# esses comentários são para didática caso eu seja selecionado para apresentar :)\n",
    " digit = nu.pop()\n",
    " if digit == '1':\n",
    "\t    f = f + 2**i\n",
    "\n",
    "for x in range(1, count, +1):\n",
    "  digit = n1.pop(0)\n",
    "  if digit == '1':\n",
    "    f1 = f1 + 2**-x\n",
    "#print(f1)\n",
    "# print(f)\n",
    "# print(i)\n",
    "#print(x)\n",
    "sum = f + f1\n",
    "\n",
    "\n",
    "\n",
    "\n",
    "\n",
    "print(\"O tamanho do endereço é, em bits:\", n, \"Considenrando isso, o maior endereço em binário seria o número '1' 15 vezes(111111111111111), onde, o equivalente em decimal é:\", sum)"
   ]
  },
  {
   "cell_type": "markdown",
   "id": "d89b2442",
   "metadata": {},
   "source": [
    "##### b) Qual é o tamanho do barramento de endereços desse sistema?"
   ]
  },
  {
   "cell_type": "code",
   "execution_count": 144,
   "id": "1259fc1e",
   "metadata": {},
   "outputs": [
    {
     "name": "stdout",
     "output_type": "stream",
     "text": [
      "Esse é o tamanho do endereço em bits: 15 Como, por convenção, o BE = tamanho do endereço o BE = 15bits\n"
     ]
    }
   ],
   "source": [
    "#Considerando a fórmula: M.N = Capacidade total; Onde M = capacidade da célula e N = número de células\n",
    "#Para calcular N, usamos => 2**n = N; Onde \"n\" = tamanho do endereço em bits. Logo:\n",
    "#Nota: considere os cálculos apenas aproximações, pois o python interpreta as contas diferente\n",
    "import math\n",
    "n = int(math.log(2**15, 2))\n",
    "M = 2**3\n",
    "N = 2**15\n",
    "print(\"Esse é o tamanho do endereço em bits:\", n, \"Como, por convenção, o BE = tamanho do endereço o BE = 15bits\")"
   ]
  },
  {
   "cell_type": "markdown",
   "id": "019da21a",
   "metadata": {},
   "source": [
    "##### c) Quantos bits podem ser armazenados no RDM e no REM?"
   ]
  },
  {
   "cell_type": "code",
   "execution_count": 145,
   "id": "e16581d9",
   "metadata": {},
   "outputs": [
    {
     "name": "stdout",
     "output_type": "stream",
     "text": [
      "Esse é o tamanho do endereço em bits: 15 \n",
      "Como, por convenção, o BE = tamanho do endereço e o BE = REM, o REM = 15bits\n",
      "\n",
      "Esse é a quantidade de linhas de sáida: 8 \n",
      "Como, por convenção dessa questão, o RDM = quantidade de linhas de sáida, o RDM = 8bits\n"
     ]
    }
   ],
   "source": [
    "#Considerando a fórmula: M.N = Capacidade total; Onde M = capacidade da célula e N = número de células\n",
    "#Para calcular N, usamos => 2**n = N; Onde \"n\" = tamanho do endereço em bits. Logo:\n",
    "#Nota: considere os cálculos apenas aproximações, pois o python interpreta as contas diferente\n",
    "import math\n",
    "n = int(math.log(2**15, 2))\n",
    "M = 2**3\n",
    "N = 2**15\n",
    "print(\"Esse é o tamanho do endereço em bits:\", n, \"\\n\" \"Como, por convenção, o BE = tamanho do endereço e o BE = REM, o REM = 15bits\" \"\\n\")\n",
    "print(\"Esse é a quantidade de linhas de sáida:\", M, \"\\n\" \"Como, por convenção dessa questão, o RDM = quantidade de linhas de sáida, o RDM = 8bits\")"
   ]
  },
  {
   "cell_type": "markdown",
   "id": "b6ca9cac",
   "metadata": {},
   "source": [
    "##### d) Qual é o total máximo de bits que pode existir nesta memória?"
   ]
  },
  {
   "cell_type": "code",
   "execution_count": 146,
   "id": "5222b635",
   "metadata": {},
   "outputs": [
    {
     "name": "stdout",
     "output_type": "stream",
     "text": [
      "Esse é a capacidade total: 262144 ou 256Kbits\n"
     ]
    }
   ],
   "source": [
    "#Considerando a fórmula: M.N = Capacidade total; Onde M = capacidade da célula e N = número de células\n",
    "#Para calcular N, usamos => 2**n = N; Onde \"n\" = tamanho do endereço em bits. Logo:\n",
    "#Nota: considere os cálculos apenas aproximações, pois o python interpreta as contas diferente\n",
    "import math\n",
    "M = 2**3\n",
    "N = 2**15\n",
    "print(\"Esse é a capacidade total:\", M*N, \"ou 256Kbits\")"
   ]
  },
  {
   "cell_type": "markdown",
   "id": "ceabf56e",
   "metadata": {},
   "source": [
    "#### 12) Considere uma célula de uma MP cujo endereço é,em hexadecimal, 2C81 e que tem armazenado em seu conteúdo um valor igual a,em hexadecimal, F5A. Sabe-se que,neste sistema as células têm o mesmo tamanho da palavra e que em cada acesso é lido o valor de uma célula. Pergunta-se:\n",
    "\n"
   ]
  },
  {
   "cell_type": "markdown",
   "id": "cc019f7f",
   "metadata": {},
   "source": [
    "##### a) Qual deve ser o tamanho do REM e do RDM nesse sistema ?"
   ]
  },
  {
   "cell_type": "code",
   "execution_count": 147,
   "id": "0876518b",
   "metadata": {},
   "outputs": [
    {
     "name": "stdout",
     "output_type": "stream",
     "text": [
      "Esse é o tamanho do endereço em bits: 16 \n",
      "Como, por convenção, o BE = tamanho do endereço e o BE = REM, o REM = 16bits\n",
      "\n",
      "Esse é a quantidade de linhas de sáida de dados: 12 \n",
      "Como, por convenção dessa questão, o RDM = quantidade de linhas de sáida de dados, o RDM = 12bits\n"
     ]
    }
   ],
   "source": [
    "#Considerando a fórmula: M.N = Capacidade total; Onde M = capacidade da célula e N = número de células\n",
    "#Para calcular N, usamos => 2**n = N; Onde \"n\" = tamanho do endereço em bits.\n",
    "#Nota: considere os cálculos apenas aproximações, pois o python interpreta as contas diferente\n",
    "#Considerando, também, que cada caracter em hexadecimal equivale a 4bits em binário: 2C81 = 16 bits de endereço; F5A = 12 bits de armazenamento\n",
    "import math\n",
    "n = int(math.log(2**16, 2))\n",
    "M = (2**2)*3\n",
    "N = 2**16\n",
    "print(\"Esse é o tamanho do endereço em bits:\", n, \"\\n\" \"Como, por convenção, o BE = tamanho do endereço e o BE = REM, o REM = 16bits\" \"\\n\")\n",
    "print(\"Esse é a quantidade de linhas de sáida de dados:\", M, \"\\n\" \"Como, por convenção dessa questão, o RDM = quantidade de linhas de sáida de dados, o RDM = 12bits\")"
   ]
  },
  {
   "cell_type": "markdown",
   "id": "f896db99",
   "metadata": {},
   "source": [
    "#### b) Qual deve ser a máxima quantidade de bits que podem  ser implementados nessa memória?"
   ]
  },
  {
   "cell_type": "code",
   "execution_count": 148,
   "id": "2f5b84ab",
   "metadata": {},
   "outputs": [
    {
     "name": "stdout",
     "output_type": "stream",
     "text": [
      "Essa é a quantidade máxima de bits que podem ser 'guardados' na memória: 786432 ou 768Kbits\n"
     ]
    }
   ],
   "source": [
    "#Considerando a fórmula: M.N = Capacidade total; Onde M = capacidade da célula e N = número de células\n",
    "#Para calcular N, usamos => 2**n = N; Onde \"n\" = tamanho do endereço em bits.\n",
    "#Nota: considere os cálculos apenas aproximações, pois o python interpreta as contas diferente\n",
    "#Considerando, também, que cada caracter em hexadecimal equivale a 4bits em binário: 2C81 = 16 bits de endereço; F5A = 12 bits de armazenamento\n",
    "import math\n",
    "n = int(math.log(2**16, 2))\n",
    "M = (2**2)*3\n",
    "N = 2**16\n",
    "print(\"Essa é a quantidade máxima de bits que podem ser 'guardados' na memória:\", M*N, \"ou 768Kbits\")"
   ]
  },
  {
   "cell_type": "markdown",
   "id": "3e1ebc21",
   "metadata": {},
   "source": [
    "#### 13) Considere uma memória  com capacidade  de armazenamento de 64K bytes; cada célula pode armazenar 1 byte de informação e cada caractere é codificado com 8 bits. Resolveu-se armazenar na memória deste sistema um conjunto de caracteres do seguinte modo. A partir  do endereço (hexadecimal) 27FA, foram escritos sucessivamente  grupos de 128 caracteres iguais, iniciando pelo grupo de As,seguido do grupo de Bs. e assim por diante. qual deverá ser o endereço correspondente ao local onde está armazenado o 1º J?"
   ]
  },
  {
   "cell_type": "markdown",
   "id": "3cb8991f",
   "metadata": {},
   "source": [
    "Considerando que cada caracter em hexadecimal equivale a 4bits em binário: 27FA = 16 bits de endereço; 27FA = 10234 em decimal. Notamos, também, que cada grupo de caracteres ocupa 128 células(ou 128 endereços), o caracter J ocupa a décima posicação no alfabeto, logo o primeiro J estará 1151 endereços dps do primeiro A, ou seja:\n",
    "\n"
   ]
  },
  {
   "cell_type": "code",
   "execution_count": 149,
   "id": "485dc1fc",
   "metadata": {},
   "outputs": [
    {
     "name": "stdout",
     "output_type": "stream",
     "text": [
      "Esse é o endereço do primeiro J em decimal: 11386 \n",
      "Em hexadecimal seria: 2C7A\n"
     ]
    }
   ],
   "source": [
    "Endereço_do_primeiro_A = 10235\n",
    "grupos = 128\n",
    "Endereço_do_primeiro_J = (Endereço_do_primeiro_A + 9*grupos) - 1\n",
    "print(\"Esse é o endereço do primeiro J em decimal:\", Endereço_do_primeiro_J, \"\\n\" \"Em hexadecimal seria: 2C7A\")"
   ]
  },
  {
   "cell_type": "markdown",
   "id": "904b2fde",
   "metadata": {},
   "source": [
    "#### 14) O custo das memórias SRAM é maior que o das memórias DRAM. No entanto, o processo de conexão das memórias DRAM é mais complexo que o das SRAM e em consequência, o preço da interface das DRAM é bem maior que o da SRAM. Supondo que uma interface de DRAM custe RS 5,00, uma interface de SRAM custe RS 1,OO, o preço por bit de uma SRAM é de RS 0,00002 e o de uma DRAM é de RS 0,00001, calcule quantos bits deve ter uma memória dinâmica (DRAM) para que o conjunto seja mais barato."
   ]
  },
  {
   "cell_type": "code",
   "execution_count": 150,
   "id": "57a84566",
   "metadata": {},
   "outputs": [
    {
     "name": "stdout",
     "output_type": "stream",
     "text": [
      "400000\n"
     ]
    }
   ],
   "source": [
    "bits = 0\n",
    "DRAM = 5 + (0.00001 * bits)\n",
    "SRAM = 1 + (0.00002 * bits)\n",
    "while (DRAM > SRAM):\n",
    "    bits = bits + 1\n",
    "    DRAM = 5 + (0.00001 * bits)\n",
    "    SRAM = 1 + (0.00002 * bits)\n",
    "print(bits)"
   ]
  },
  {
   "cell_type": "markdown",
   "id": "e2cac189",
   "metadata": {},
   "source": [
    "##### Logo, podemos ver que é preciso mais de 400000 bits para a DRAM ser mais barata\n",
    "\n",
    "\n"
   ]
  },
  {
   "cell_type": "markdown",
   "id": "57d8df3d",
   "metadata": {},
   "source": [
    "#### 15) Compare uma  memória  principal e uma  memória cache em termos  de tempo  de acesso, capacidade e temporariedade de armazenamento de dados"
   ]
  },
  {
   "cell_type": "markdown",
   "id": "0e00f6b5",
   "metadata": {},
   "source": [
    "##### Mp: Tempo de acesso: 60 a 10 ns; Capacidade: 256MB até 32GB; Temporariedade: Média\n",
    "\n",
    "##### Cache: Tempo de acesso: 5 a 10ns; Capacidade: 256KB até 8MB ou mais; Temporariedade: Curta, menor do que a duração de execução do programa"
   ]
  },
  {
   "cell_type": "markdown",
   "id": "0bf2944c",
   "metadata": {},
   "source": [
    "#### 21) Considere um sistema constituído de um processador - memória cache - memória principal, no qual o tempo de acesso processador/memória cache é de 8 ns e o tempo de acesso memória cache/memória principal é de 70 ns. Observando-se um intervalo correspondente a 100 acessos consecutivos do processador e que a eficiência da memória cache de 96%.  calcule o tempo médio de acesso do sistema"
   ]
  },
  {
   "cell_type": "code",
   "execution_count": 151,
   "id": "2a7966f5",
   "metadata": {},
   "outputs": [
    {
     "name": "stdout",
     "output_type": "stream",
     "text": [
      "10.8\n"
     ]
    }
   ],
   "source": [
    "acesso_processador_mem = 8\n",
    "acesso_memcache_mp = 70\n",
    "media = (((4/100) * 78 + ((96/100) * 8 )) / (100/100))\n",
    "print(media)"
   ]
  },
  {
   "cell_type": "markdown",
   "id": "77d2a037",
   "metadata": {},
   "source": [
    "Logo, o tempo médio de acesso do sistema seria 10.8ns"
   ]
  },
  {
   "cell_type": "markdown",
   "id": "e6ebf6fb",
   "metadata": {},
   "source": [
    "#### 26) Projete uma memória ROM de forma semelhante a que está mostrada na Fig. 4,18, considerando que ela possua 8 células de 4 bits cada uma. Podem ser assumidos quaisquer valores para armazenar nas 8 células.\n",
    "(Será feito no logisim)"
   ]
  },
  {
   "cell_type": "markdown",
   "id": "1eeb88a8",
   "metadata": {},
   "source": [
    "#### 27) Quantos bits são requeridos para se endereçar células em uma memória de 128G?"
   ]
  },
  {
   "cell_type": "code",
   "execution_count": 157,
   "id": "c9e99bac",
   "metadata": {},
   "outputs": [
    {
     "name": "stdout",
     "output_type": "stream",
     "text": [
      "Seria necessário: 37 células\n"
     ]
    }
   ],
   "source": [
    "#Considerando a fórmula: M.N = Capacidade total; Onde M = capacidade da célula e N = número de células\n",
    "#Para calcular N, usamos => 2**n = N; Onde \"n\" = tamanho do endereço em bits. Logo:\n",
    "#Nota: considere os cálculos apenas aproximações, pois o python interpreta as contas diferente\n",
    "import math\n",
    "MxN = 2**37\n",
    "n = int(math.log(MxN, 2))\n",
    "print(\"Seria necessário:\", n, \"bits\")\n",
    "\n"
   ]
  },
  {
   "cell_type": "markdown",
   "id": "b32a9b02",
   "metadata": {},
   "source": [
    "#### 28) E quantos bits seriam requeridos se a memória tivesse 32K ?"
   ]
  },
  {
   "cell_type": "code",
   "execution_count": 159,
   "id": "5c35ce67",
   "metadata": {},
   "outputs": [
    {
     "name": "stdout",
     "output_type": "stream",
     "text": [
      "Seria necessário: 15 bits\n"
     ]
    }
   ],
   "source": [
    "#Considerando a fórmula: M.N = Capacidade total; Onde M = capacidade da célula e N = número de células\n",
    "#Para calcular N, usamos => 2**n = N; Onde \"n\" = tamanho do endereço em bits. Logo:\n",
    "#Nota: considere os cálculos apenas aproximações, pois o python interpreta as contas diferente\n",
    "import math\n",
    "MxN = 2**15\n",
    "n = int(math.log(MxN, 2))\n",
    "print(\"Seria necessário:\", n, \"bits\")"
   ]
  },
  {
   "cell_type": "markdown",
   "id": "7614a3f6",
   "metadata": {},
   "source": [
    "#### 29) Quantas posições de memória existem desde o endereço 0400(hexadecimal), inclusive,  e o endereço 11FF (hexadecimal)"
   ]
  },
  {
   "cell_type": "code",
   "execution_count": 161,
   "id": "093f6fd3",
   "metadata": {},
   "outputs": [
    {
     "name": "stdout",
     "output_type": "stream",
     "text": [
      "Esse é o numero de posições: 3584\n"
     ]
    }
   ],
   "source": [
    "#Considerando a fórmula: M.N = Capacidade total; Onde M = capacidade da célula e N = número de células\n",
    "#Para calcular N, usamos => 2**n = N; Onde \"n\" = tamanho do endereço em bits.\n",
    "#Nota: considere os cálculos apenas aproximações, pois o python interpreta as contas diferente\n",
    "#Considerando, também, que cada caracter em hexadecimal equivale a 4bits em binário: 0400(hex) = 16 bits de endereço; 0400(hex) = 1024 decimal; 11FF = 4607 decimal\n",
    "Endereço_do_0400 = 1024\n",
    "Endereço_do_11FF = 4607\n",
    "posições = (Endereço_do_11FF - Endereço_do_0400) + 1\n",
    "print(\"Esse é o numero de posições:\", posições)"
   ]
  },
  {
   "cell_type": "markdown",
   "id": "08a29b79",
   "metadata": {},
   "source": [
    "#### 30) De que depende fundamentalmente a determinação  da quantidade  máxima de posições de memória que um processador consegue endereçar?"
   ]
  },
  {
   "cell_type": "markdown",
   "id": "906f439c",
   "metadata": {},
   "source": [
    "Dependende da quantidade de bits (ou número de linhas) no barramento de endereço."
   ]
  },
  {
   "cell_type": "markdown",
   "id": "5db134f9",
   "metadata": {},
   "source": [
    "#### 31) Uma imagem. pode ser representada por uma matriz de pontos armazenada na memória de um computador. Cada ponto possui uma indicação de cor associada a ela; essa cor precisa de 4 byte para ser representada. Baseado nessas informações,pede-se:\n",
    "\n",
    "\n"
   ]
  },
  {
   "cell_type": "markdown",
   "id": "bdcd561a",
   "metadata": {},
   "source": [
    "##### a) a quantidade de memória,em bytes, necessária para armazenar uma imagem de 640 X 420 pontos;"
   ]
  },
  {
   "cell_type": "code",
   "execution_count": 175,
   "id": "5b22480b",
   "metadata": {},
   "outputs": [
    {
     "name": "stdout",
     "output_type": "stream",
     "text": [
      "A quantidade de memória necessária, em bytes, é: 1075200 ou 1MB\n"
     ]
    }
   ],
   "source": [
    "import math\n",
    "x = 640\n",
    "y = 420\n",
    "byte = 4\n",
    "total = x*y*byte\n",
    "print(\"A quantidade de memória necessária, em bytes, é:\", int(total), \"ou 1MB\"  )\n"
   ]
  },
  {
   "cell_type": "markdown",
   "id": "0e988403",
   "metadata": {},
   "source": [
    "##### b) a quantidade de memória em megabytes. necessária para armazenar 10 imagens semelhantes a esta;"
   ]
  },
  {
   "cell_type": "code",
   "execution_count": 170,
   "id": "d55e5219",
   "metadata": {},
   "outputs": [
    {
     "name": "stdout",
     "output_type": "stream",
     "text": [
      "A quantidade de memória necessária, em bytes, é: 10752000 ou 10MB\n"
     ]
    }
   ],
   "source": [
    "import math\n",
    "x = 640\n",
    "y = 420\n",
    "byte = 4\n",
    "imagens = 10\n",
    "total = x*y*byte*imagens\n",
    "print(\"A quantidade de memória necessária, em bytes, é:\", int(total), \"ou 10MB\"  )"
   ]
  },
  {
   "cell_type": "markdown",
   "id": "e1f28841",
   "metadata": {},
   "source": [
    "##### c) quantas imagens como esta poderiam ser armazenadas  na memória  de um computador com 128MB de memória RAM?"
   ]
  },
  {
   "cell_type": "code",
   "execution_count": 182,
   "id": "23ac1e0d",
   "metadata": {},
   "outputs": [
    {
     "name": "stdout",
     "output_type": "stream",
     "text": [
      "A quantidade de imagens que podem ser armazenadas é: 124\n"
     ]
    }
   ],
   "source": [
    "import math\n",
    "x = 640\n",
    "y = 420\n",
    "byte = 4\n",
    "total = x*y*byte\n",
    "memória = 2**27\n",
    "qtd_imagens = memória / total\n",
    "print(\"A quantidade de imagens que podem ser armazenadas é:\", int(qtd_imagens))"
   ]
  },
  {
   "cell_type": "markdown",
   "id": "a738f3c1",
   "metadata": {},
   "source": [
    "#### 32) Quantos bytes podem ser armazenados em uma memória ROM que possua 16 linhas de endereçamento e que possua 4 linhas de saída de dados? "
   ]
  },
  {
   "cell_type": "code",
   "execution_count": 190,
   "id": "5dbd9d57",
   "metadata": {},
   "outputs": [
    {
     "name": "stdout",
     "output_type": "stream",
     "text": [
      "Esse seria o resultado em bits: 262144 ou 256Kbits \n",
      "Esse seria o resultado em bytes, aproximadamente: 32768.0 ou então: 32KBytes\n"
     ]
    }
   ],
   "source": [
    "#Considerando a fórmula: M.N = Capacidade total; Onde M = capacidade da célula e N = número de células\n",
    "#Para calcular N, usamos => 2**n = N; Onde \"n\" = tamanho do endereço em bits. Logo:\n",
    "#Nota: considere os cálculos apenas aproximações, pois o python interpreta as contas diferente\n",
    "#Nota-se que 4 linhas de saída se refere a uma célula com capacidade de 4 bits e 16 linhas de end se refere a um tamanho de endereço de 16 bits\n",
    "import math\n",
    "M = 2**2\n",
    "N = 2**16\n",
    "print(\"Esse seria o resultado em bits:\", M*N, \"ou 256Kbits \")\n",
    "#Transformando em bytes:\n",
    "print(\"Esse seria o resultado em bytes, aproximadamente:\", (M*N)/2**3, \"ou então: 32KBytes\")"
   ]
  },
  {
   "cell_type": "markdown",
   "id": "4a0e52e2",
   "metadata": {},
   "source": [
    "#### 33) Você considera válida a afirmação \"um computador com mais poder de processamento pode armaze­nar mais programas\"?"
   ]
  },
  {
   "cell_type": "markdown",
   "id": "1a64aeff",
   "metadata": {},
   "source": [
    "Não, \"mais porder de processamento\" refere-se à quantos dados o processador consegue trabalhar de uma vez, enquanto \"mais poder de armazenamento\" refere-se a quantidade de informações/instruções que o computador consegue armazenar de uma só vez."
   ]
  },
  {
   "cell_type": "markdown",
   "id": "6c510fe3",
   "metadata": {},
   "source": [
    "#### 34) Você considera válida a afirmação \"vale aumentar a capacidade da memória principal para que o acesso aos meios magnéticos(discos rígidos e disquetes) seja mais rápido\"?"
   ]
  },
  {
   "cell_type": "markdown",
   "id": "766bd8fd",
   "metadata": {},
   "source": [
    "Caso o bloco de transferência disco rígido-MP seja grande, sim. Pois, pelo disco ter um tempo de transferência bastante baixo, o ideal seria transmitir mais dados de uma só vez para a MP, para, dessa forma, não ter de visitar o disco rígido tão frequentemente."
   ]
  }
 ],
 "metadata": {
  "kernelspec": {
   "display_name": "Python 3",
   "language": "python",
   "name": "python3"
  },
  "language_info": {
   "codemirror_mode": {
    "name": "ipython",
    "version": 3
   },
   "file_extension": ".py",
   "mimetype": "text/x-python",
   "name": "python",
   "nbconvert_exporter": "python",
   "pygments_lexer": "ipython3",
   "version": "3.8.8"
  }
 },
 "nbformat": 4,
 "nbformat_minor": 5
}
