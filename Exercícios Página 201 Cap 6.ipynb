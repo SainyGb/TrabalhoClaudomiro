{
 "cells": [
  {
   "cell_type": "markdown",
   "id": "c4689b41",
   "metadata": {},
   "source": [
    "# Exercícios Página 201 Cap 6 Livro do Monteiro"
   ]
  },
  {
   "cell_type": "markdown",
   "id": "bf926574",
   "metadata": {},
   "source": [
    "# Aluno: Sainy Gabriel Rosa Dias Antonio\n",
    "# Matrícula: 202104940007"
   ]
  },
  {
   "cell_type": "markdown",
   "id": "944d6a3f",
   "metadata": {},
   "source": [
    "## 1) Descreva as funções básicas de uma UCP, indicando os seus componentes principais.\n"
   ]
  },
  {
   "cell_type": "markdown",
   "id": "3aa5e8f1",
   "metadata": {},
   "source": [
    "Função de Controle: Associada às atividades de controle da execução de instruções, interpretação, busca e controle dos componentes do sistema. Os principais componentes são: RDM, REM, UC, RI, CI (ou PC)."
   ]
  },
  {
   "cell_type": "markdown",
   "id": "9f9c2dea",
   "metadata": {},
   "source": [
    "Função de Processamento: Associada às atividades de execução de operações lógicas e matemáticas, tendo como principais componentes: Os registradores e a UAL."
   ]
  },
  {
   "cell_type": "markdown",
   "id": "ba0728d6",
   "metadata": {},
   "source": [
    "## 2) Quais são as funções da unidade aritmética e lógica — UAL?"
   ]
  },
  {
   "cell_type": "markdown",
   "id": "cee15807",
   "metadata": {},
   "source": [
    "Executar operações:"
   ]
  },
  {
   "cell_type": "markdown",
   "id": "157909f2",
   "metadata": {},
   "source": [
    "Lógicas como: And, Or, Xor, Not"
   ]
  },
  {
   "cell_type": "markdown",
   "id": "81da9eda",
   "metadata": {},
   "source": [
    "Matemáricas como: divisão, multiplicação, soma e subtração"
   ]
  },
  {
   "cell_type": "markdown",
   "id": "8c87a4e8",
   "metadata": {},
   "source": [
    "E algumas outras como: Deslocamentos à direita e à esquerda e complementos (de 1 e 2)"
   ]
  },
  {
   "cell_type": "markdown",
   "id": "223172e9",
   "metadata": {},
   "source": [
    "## 5) Quais são as funções da unidade de controle de um processador?"
   ]
  },
  {
   "cell_type": "markdown",
   "id": "6e8a10a7",
   "metadata": {},
   "source": [
    "É a responsável por gerar todos os sinais que controlam as operações no exterior da CPU e dar todas as instruções para o correto funcionamento da CPU."
   ]
  },
  {
   "cell_type": "markdown",
   "id": "87e0df37",
   "metadata": {},
   "source": [
    "## 6) Seria possível realizar o projeto de um processador em que o tamanho em bits do CI fosse diferente do tamanho do REM? Nesse caso, qual dos dois registradores deveria ter maior tamanho? Por quê?\n"
   ]
  },
  {
   "cell_type": "markdown",
   "id": "0b30cc11",
   "metadata": {},
   "source": [
    "Segundo von Neumman, isso não seria possível, pois as instruções e os dados ocupam a mesma memória, ambos os registradores armazenam endereços e devem ter o mesmo tamanho."
   ]
  },
  {
   "cell_type": "markdown",
   "id": "1e6c6e73",
   "metadata": {},
   "source": [
    "## 7) Considere um computador cuja MP é organizada com N células de 1 byte cada uma. As instruções interpretadas pela UCP possuem três tamanhos diferentes: as do tipo A possuem 16 bits; as do tipo B têm 32 bits e as do tipo C possuem 48 bits. Considerando que o código de operação de cada uma tem um tamanho fixo e igual a 8 bits e que os programas executados nesse processador são constituídos de uma mistura dos três tipos de instruções, imagine um processo prático para incremento automático do CI após a execução de cada instrução de um programa.\n"
   ]
  },
  {
   "cell_type": "code",
   "execution_count": 65,
   "id": "fb972569",
   "metadata": {},
   "outputs": [
    {
     "name": "stdout",
     "output_type": "stream",
     "text": [
      "256 bits\n"
     ]
    }
   ],
   "source": [
    "C_OP = 2**8\n",
    "print(C_OP, \"bits\")\n",
    "\n"
   ]
  },
  {
   "cell_type": "markdown",
   "id": "db031a18",
   "metadata": {},
   "source": [
    "C.OP entre 0 e 84: instruções de 16bits de tamanho (CI <- CI + 2) após a busca da instrução.\n"
   ]
  },
  {
   "cell_type": "markdown",
   "id": "2aa17487",
   "metadata": {},
   "source": [
    "C.OP entre 85 e 170: instruções de 32bits de tamanho (CI <- CI + 4) após a busca da instrução.\n"
   ]
  },
  {
   "cell_type": "markdown",
   "id": "ca1af730",
   "metadata": {},
   "source": [
    "C.OP entre 171 e 255: instruções de 48bits de tamanho (CI <- CI + 6) após a busca da instrução."
   ]
  },
  {
   "cell_type": "markdown",
   "id": "6ef2bd38",
   "metadata": {},
   "source": [
    "## 8) Considere um processador cujo ciclo de instrução não possua a etapa de incremento automático do valor do Cl. Imagine um método alternativo que permita a execução do programa.\n"
   ]
  },
  {
   "cell_type": "markdown",
   "id": "c2d980d5",
   "metadata": {},
   "source": [
    "Seria possível por meio do campo \"Código de Operação\". Caso não seja um desvio, basta fazer uma busca no próximo endereço. Caso seja um desvio, é só usar o Operando como endereço da próxima instrução."
   ]
  },
  {
   "cell_type": "markdown",
   "id": "a0e28ee7",
   "metadata": {},
   "source": [
    "## 9) Qual é e onde se localiza o registrador cujo conteúdo controla a sequência de processamento das instruções de um programa?"
   ]
  },
  {
   "cell_type": "markdown",
   "id": "006a4eec",
   "metadata": {},
   "source": [
    "O registrador se chama Controlador de Instruções (CI ou PC). Ele se encontra na Unidade Central de Processamento(UCP)."
   ]
  },
  {
   "cell_type": "markdown",
   "id": "7efaa564",
   "metadata": {},
   "source": [
    "## 10) Considerando as instruções a seguir, indique a quantidade de ciclos de memória despendidos para realizar seu ciclo de instrução completo (explicite a quantidade de ciclos de leitura e de escrita, quando for o caso):\n"
   ]
  },
  {
   "cell_type": "markdown",
   "id": "9fc3f1b6",
   "metadata": {},
   "source": [
    "### ADD Op.                     R0 <— R0 + (Op.)\n"
   ]
  },
  {
   "cell_type": "markdown",
   "id": "5f4725cf",
   "metadata": {},
   "source": [
    "2 ciclos de leitura."
   ]
  },
  {
   "cell_type": "markdown",
   "id": "99f72055",
   "metadata": {},
   "source": [
    "### SUB Op.                     (Op.) <— Rg — (Op.)\n"
   ]
  },
  {
   "cell_type": "markdown",
   "id": "f24a56c3",
   "metadata": {},
   "source": [
    "2 ciclos de leitura."
   ]
  },
  {
   "cell_type": "markdown",
   "id": "c967c12b",
   "metadata": {},
   "source": [
    "### ADD Op.1, Op.2         (Op.1)< — (Op.1) + (Op.2)\n"
   ]
  },
  {
   "cell_type": "markdown",
   "id": "d898604f",
   "metadata": {},
   "source": [
    "4 ciclos, sendo 3 de leitura e 1 de escrita."
   ]
  },
  {
   "cell_type": "markdown",
   "id": "e4b64b3c",
   "metadata": {},
   "source": [
    "### INCR                           R0 <—R0 + 1\n"
   ]
  },
  {
   "cell_type": "markdown",
   "id": "ebbc78c6",
   "metadata": {},
   "source": [
    "1 ciclo de leitura."
   ]
  },
  {
   "cell_type": "markdown",
   "id": "26fe08cc",
   "metadata": {},
   "source": [
    "### LDA Op.                     R0 <— (Op.) "
   ]
  },
  {
   "cell_type": "markdown",
   "id": "f8405913",
   "metadata": {},
   "source": [
    "2 ciclos de leitura."
   ]
  },
  {
   "cell_type": "markdown",
   "id": "90223f4c",
   "metadata": {},
   "source": [
    "### No total, são 11 ciclos."
   ]
  },
  {
   "cell_type": "markdown",
   "id": "5a4eb388",
   "metadata": {},
   "source": [
    "## 11) Qual é o registrador cujo conteúdo determina a capacidade de memória de um computador?Justifique.\n"
   ]
  },
  {
   "cell_type": "markdown",
   "id": "30b3f4fb",
   "metadata": {},
   "source": [
    "É o REM, pois ele está intimamente ligado com a barra de endereços, que, então, está ligada à MP."
   ]
  },
  {
   "cell_type": "markdown",
   "id": "65703c72",
   "metadata": {},
   "source": [
    "## 12) Considere um computador com 64K células de memória, instruções de um operando, tendo possibilidade de ter um conjunto de 256 instruções de máquina. Considerando que cada instrução temo tamanho de uma célula, que é o mesmo tamanho da palavra do sistema, qual o tamanho, embits, do Reg, CI e RDM? Qual é o total de bits dessa memória?"
   ]
  },
  {
   "cell_type": "code",
   "execution_count": 13,
   "id": "a0f56d24",
   "metadata": {},
   "outputs": [
    {
     "name": "stdout",
     "output_type": "stream",
     "text": [
      "8.0 bits do código de operação\n",
      "16.0 linhas de endereço\n",
      "24 bits para instrução\n",
      "24 bits Reg\n",
      "8.0 bits para o CI\n",
      "1572864 bits totais\n"
     ]
    }
   ],
   "source": [
    "import math\n",
    "palavras = 2**16\n",
    "instrucao = 256\n",
    "print(f'{math.log(instrucao, 2)} bits do código de operação')\n",
    "print(f'{math.log(palavras, 2)} linhas de endereço')\n",
    "print(f'{16 + 8} bits para instrução')\n",
    "#Como palavra memória = palavra processador:\n",
    "print(f'{16 + 8} bits Reg')\n",
    "print(f'{math.log(instrucao, 2)} bits para o CI')\n",
    "print(f'{(2**16)*24} bits totais')"
   ]
  },
  {
   "cell_type": "markdown",
   "id": "191fb40d",
   "metadata": {},
   "source": [
    "## 13) Um computador tem um REM de 16 bits e um barramento de dados de 20 bits. Possui instruções de um operando,todas do tamanho de uma célula de memória e do mesmo tamanho da palavra. Ele foi adquirido com apenas uma placa de 4K de memória. Pergunta-se:\n"
   ]
  },
  {
   "cell_type": "markdown",
   "id": "efb8ca88",
   "metadata": {},
   "source": [
    "### a) Qual o tamanho, embits, do RDM e CI?\n"
   ]
  },
  {
   "cell_type": "markdown",
   "id": "07cfec6a",
   "metadata": {},
   "source": [
    "Como o barramento de dados tem 20 bits, RDM terá 20 bits. Como o REM é 16, supõe-se que o barramento de endereços também tenha 16, logo o CI será 16 também."
   ]
  },
  {
   "cell_type": "markdown",
   "id": "7de4d336",
   "metadata": {},
   "source": [
    "### b) Seria possível aumentar-se a capacidade de armazenamento dessa memória? Até quanto? Por quê?"
   ]
  },
  {
   "cell_type": "markdown",
   "id": "2433860a",
   "metadata": {},
   "source": [
    "Como o barramento de endereço tem 16 bits, podemos ter uma memória com 2^16 = 64K palavras. Portanto é possível aumentar a quantidade de palavras de memória até 64K."
   ]
  },
  {
   "cell_type": "markdown",
   "id": "12096c47",
   "metadata": {},
   "source": [
    "### c) Qual a quantidade máxima de instruções de máquina que poderia existir nesse computador? "
   ]
  },
  {
   "cell_type": "markdown",
   "id": "812f24ae",
   "metadata": {},
   "source": [
    "Supondo que o operando faça referência à endereços de memória, este deve ter tamanho de 16 bits. Como a instrução possui o mesmo tamanho da palavra de memória e palavra do processador, chegamos à conclusão que o tamanho da instrução é de 20 bits. O tamanho do código de operação é dado por 20 – 16 = 4 bits. Com 4 bits, temos um total de 2^4 = 16 combinações possíveis e portanto, podemos ter no máximo um total de 16 instruções de máquina."
   ]
  },
  {
   "cell_type": "markdown",
   "id": "a7ed6d75",
   "metadata": {},
   "source": [
    "## 14) Um computador possui um conjunto de 128 instruções de um operando; supondo que sua memória tenha capacidade de armazenar 512 palavras e que cada instrução tenha o tamanho de uma palavra e da célula de memória. Pergunta-se:\n"
   ]
  },
  {
   "cell_type": "markdown",
   "id": "72524249",
   "metadata": {},
   "source": [
    "###  a) Qual o tamanho embits do REM, RDM, RI e CI?"
   ]
  },
  {
   "cell_type": "code",
   "execution_count": 22,
   "id": "c35da20a",
   "metadata": {},
   "outputs": [
    {
     "name": "stdout",
     "output_type": "stream",
     "text": [
      "7.0 bits do código de operação\n",
      "9.0 linhas de endereço\n",
      "16.0 bits para instrução\n",
      "16.0 bits RI\n",
      "16.0 bits RDM\n",
      "9.0 bits para o CI\n",
      "9.0 bits para o REM\n"
     ]
    }
   ],
   "source": [
    "import math\n",
    "palavras = 512\n",
    "instrucao = 128\n",
    "bits_operacao = math.log(instrucao, 2)\n",
    "linhas_end = math.log(palavras, 2)\n",
    "bits_instrucao = bits_operacao + linhas_end\n",
    "print(f'{bits_operacao} bits do código de operação')\n",
    "print(f'{linhas_end} linhas de endereço')\n",
    "print(f'{bits_instrucao} bits para instrução')\n",
    "#Como palavra memória = palavra processador:\n",
    "print(f'{bits_instrucao} bits RI')\n",
    "print(f'{bits_instrucao} bits RDM')\n",
    "print(f'{linhas_end} bits para o CI')\n",
    "print(f'{linhas_end} bits para o REM')\n",
    "\n",
    "#print(f'{(2**16)*24} bits totais')"
   ]
  },
  {
   "cell_type": "markdown",
   "id": "b308f537",
   "metadata": {},
   "source": [
    "### b) Qual a capacidade da memória, em bytes?"
   ]
  },
  {
   "cell_type": "code",
   "execution_count": 43,
   "id": "acde84cb",
   "metadata": {},
   "outputs": [
    {
     "name": "stdout",
     "output_type": "stream",
     "text": [
      "1024.0 bytes totais\n"
     ]
    }
   ],
   "source": [
    "import math\n",
    "palavras = 512\n",
    "instrucao = 128\n",
    "bits_operacao = math.log(instrucao, 2)\n",
    "linhas_end = math.log(palavras, 2)\n",
    "bits_instrucao = bits_operacao + linhas_end\n",
    "print(f'{(palavras*(bits_instrucao/8))} bytes totais')"
   ]
  },
  {
   "cell_type": "markdown",
   "id": "7aa0c6e0",
   "metadata": {},
   "source": [
    "### c) Se se quisesse alterar o tamanho das instruções para 17 bits, mantendo inalterado o tamanho do REM, quantas novas instruções poderiam ser criadas? "
   ]
  },
  {
   "cell_type": "markdown",
   "id": "3ac6c645",
   "metadata": {},
   "source": [
    "Neste caso, aumentaremos o tamanho do campo código de operação de 7 para 8 bits, pois o operando \n",
    "permanece com o mesmo tamanho (9 bits). Com 8 bits temos um total de 28\n",
    " = 256 combinações possíveis, ou \n",
    "seja, um total de 256 instruções. "
   ]
  },
  {
   "cell_type": "markdown",
   "id": "07621782",
   "metadata": {},
   "source": [
    "## 15) Quando se fala que um determinado microcomputador A é um micro de 8 bits e que um outro micro B é de 16 bits, a que estamos nos referindo? Ao tamanho da célula de MP ou ao tamanho da palavra? Qual a base desses dois conceitos (palavra e célula)?\n"
   ]
  },
  {
   "cell_type": "markdown",
   "id": "4040043b",
   "metadata": {},
   "source": [
    "Ao tamanho da palavra do processador, ou seja, o número de bits que o processador é capaz de manipular.\n",
    "Isto diz respeito ao número de bits (tamanho) dos registradores internos, o tamanho em bits que a ULA é capaz de processar, o tamanho do barramento de dados. Onde célula se refere ao tamanho de um \"compartimento\" da MP e palavra o tamanho da informação."
   ]
  },
  {
   "cell_type": "markdown",
   "id": "3455885e",
   "metadata": {},
   "source": [
    "## 16) Considere um computador que possua uma UCP com CI de 16 bits e RI de 38 bits. Suas instruçõe stêm dois operandos do mesmo tamanho (16 bits), além, é claro, de um código de operação. Pergunta-se:"
   ]
  },
  {
   "cell_type": "markdown",
   "id": "d51e17e6",
   "metadata": {},
   "source": [
    "### a) Qual o tamanho da instrução? "
   ]
  },
  {
   "cell_type": "markdown",
   "id": "25c6b2cb",
   "metadata": {},
   "source": [
    "O tamanho da instrução é igual ao tamanho do registrador de instrução, uma vez que este armazena a \n",
    "instrução que está sendo executada. Portanto, o tamanho da instrução é de 38 bits."
   ]
  },
  {
   "cell_type": "markdown",
   "id": "cf4c2436",
   "metadata": {},
   "source": [
    "### b) Qual o tamanho do campo do código de operação?"
   ]
  },
  {
   "cell_type": "code",
   "execution_count": 47,
   "id": "04899208",
   "metadata": {},
   "outputs": [
    {
     "name": "stdout",
     "output_type": "stream",
     "text": [
      "6 bits\n"
     ]
    }
   ],
   "source": [
    "#Como a instrução tem tamanho de 38 bits e possuem dois operandos de 16 bits cada, o tamanho do código de operação é:\n",
    "bits = 38 - 16 - 16\n",
    "print(f'{bits} bits')"
   ]
  },
  {
   "cell_type": "markdown",
   "id": "d711354d",
   "metadata": {},
   "source": [
    "### c) Considerando que a configuração básica dessa máquina é de 16 Kbytes de memória, até que tamanho pode a memória ser expandida?"
   ]
  },
  {
   "cell_type": "markdown",
   "id": "620ff094",
   "metadata": {},
   "source": [
    "O tamanho do registrador PC, que é usado para apontar para a próxima instrução a ser executada tem \n",
    "tamanho de 16 bits. Com 16 bits, temos um total de 2 ** 16 = 64K combinações possíveis que vai de 0 até 2 ** 16 – 1, \n",
    "ou seja, de 0 a 64K –1. Portanto, podemos expandir a memória até 64K palavras. "
   ]
  },
  {
   "cell_type": "markdown",
   "id": "d61903c6",
   "metadata": {},
   "source": [
    "## 17) A figura a seguir ilustra uma memória de 256 células em que cada célula (ou palavra) contém 16 bits. Nessa figura, cada retângulo simboliza uma célula de memória; o número hexadecimal que está dentro do retângulo representa o seu conteúdo, e o número colocado ao lado de cada um indica o endereço da célula (retângulo). Pergunta-se:\n",
    "\n"
   ]
  },
  {
   "cell_type": "markdown",
   "id": "b87bb29e",
   "metadata": {},
   "source": [
    "### a) Qual a capacidade total da memória, em bits?\n",
    "\n"
   ]
  },
  {
   "cell_type": "code",
   "execution_count": 53,
   "id": "c66384d7",
   "metadata": {},
   "outputs": [
    {
     "name": "stdout",
     "output_type": "stream",
     "text": [
      "4096.0 bits totais\n"
     ]
    }
   ],
   "source": [
    "import math\n",
    "palavras = 512\n",
    "instrucao = 128\n",
    "bits_operacao = math.log(instrucao, 2)\n",
    "linhas_end = math.log(palavras, 2)\n",
    "bits_instrucao = bits_operacao + linhas_end\n",
    "print(f'{(palavras*(bits_instrucao)/2)} bits totais')"
   ]
  },
  {
   "cell_type": "markdown",
   "id": "9487d027",
   "metadata": {},
   "source": [
    "### b) Supondo que, no início de um ciclo de instrução, o conteúdo do CI (contador de instrução) seja o hexadecimal A5 e que cada instrução ocupe uma única célula (palavra), qual será a instrução que será executada?\n"
   ]
  },
  {
   "cell_type": "markdown",
   "id": "7c94af83",
   "metadata": {},
   "source": [
    "CB05"
   ]
  },
  {
   "cell_type": "markdown",
   "id": "f06612e5",
   "metadata": {},
   "source": [
    "### c) Supondo que o conteúdo do REM (registrador de endereços de memória) tenha o valor hexadecimal FD e que umsinal de leitura seja enviado da UCP para a memória, qual deverá ser o conteúdo do RDM (registrador de dados de memória) ao final do ciclo de leitura?"
   ]
  },
  {
   "cell_type": "markdown",
   "id": "fcbb1985",
   "metadata": {},
   "source": [
    "4040"
   ]
  },
  {
   "cell_type": "markdown",
   "id": "d0973170",
   "metadata": {},
   "source": [
    "## 18) Explique a diferença entre um processamento sequencial e um outro pipeline."
   ]
  },
  {
   "cell_type": "markdown",
   "id": "308af625",
   "metadata": {},
   "source": [
    "Enquanto o sequencial só inicia o próximo ciclo após ter acabado o primeiro, o processador pipeline realiza várias instruções em forma de \"cadeia\" trabalhando de forma independente, ou seja, se a primeira etapa do primeiro ciclo já está pronta, ele inicia a primeira etapa do segundo ciclo e assim por diante."
   ]
  },
  {
   "cell_type": "markdown",
   "id": "cce54ae5",
   "metadata": {},
   "source": [
    "## 19) Considere um processador que possua um CI comlargura de 32 bits e tenha umconjunto de 61 instruções todas de tamanho fixo igual a 32 bits; o processador é, ainda, constituído de 60 registradores de dados para armazenamento de valores inteiros, todos com 32 bits de largura e 20 registradores de 64 bits de largura para armazenamento de valores em ponto flutuante, Considere que todas as instruções que manipulam operações matemáticas têm um formato de 2 operandos. Pergunta-se:"
   ]
  },
  {
   "cell_type": "markdown",
   "id": "986604cd",
   "metadata": {},
   "source": [
    "### a) Qual é o total de bits da largura de cada campo operando das instruções matemáticas?\n"
   ]
  },
  {
   "cell_type": "markdown",
   "id": "f31ad071",
   "metadata": {},
   "source": [
    "32 bits"
   ]
  },
  {
   "cell_type": "markdown",
   "id": "73071435",
   "metadata": {},
   "source": [
    "### b) Qual é o valor do espaço de endereçamento da memória desse sistema?"
   ]
  },
  {
   "cell_type": "code",
   "execution_count": 55,
   "id": "c6b93b59",
   "metadata": {},
   "outputs": [
    {
     "name": "stdout",
     "output_type": "stream",
     "text": [
      "4294967296 endereços ou 4G\n"
     ]
    }
   ],
   "source": [
    "print(f'{2**32} endereços ou 4G')"
   ]
  },
  {
   "cell_type": "markdown",
   "id": "656deac7",
   "metadata": {},
   "source": [
    "###  c) Considerando as instruções que manipulam com dados armazenados em registradores, indique qual deverá ser a largura mínima do endereçamento dos registradores de inteiros. "
   ]
  },
  {
   "cell_type": "markdown",
   "id": "2372c176",
   "metadata": {},
   "source": [
    "32 bits"
   ]
  },
  {
   "cell_type": "markdown",
   "id": "951203db",
   "metadata": {},
   "source": [
    "## 20) Considere um processador que possua um conjunto de 197 instruções, algumas das quais têm formato de 2 operandos, com 32 bits de largura e outras possuem formato de 1 operando, com 24 bits de largura. Explique como deve ser a organização de entrada e saída do decodificador de instruções desse processador."
   ]
  },
  {
   "cell_type": "markdown",
   "id": "fea61f8b",
   "metadata": {},
   "source": [
    "A entrada deve ter 8 bits e a saída 256(2** 8)"
   ]
  },
  {
   "cell_type": "markdown",
   "id": "c66ec409",
   "metadata": {},
   "source": [
    "### 22) Considere um processador que possua um conjunto de instruções sobre o qual foi feito um extrato das mais importantes na tabela a seguir. Neste processador todos os endereços possuem 16 bits e as instruções possuem umformato único, mostrado a seguir, e ele possui um conjunto de 16 registradores de dados. Suponha que em um determinado instante, correspondente ao término da execução de uma instrução qualquer, o Cl tenha armazenadooseguinte valor, representado em hexadecimal: CI = 2B78, e que o registrador RI tenha armazenado o seguinte valor em hexadecimal: RI = 2C4FO8D9. Pergunta-se:"
   ]
  },
  {
   "cell_type": "markdown",
   "id": "1f62b36a",
   "metadata": {},
   "source": [
    "### a) Qual deverá ser a largura, embits, do campo C.Op.das instruções?\n"
   ]
  },
  {
   "cell_type": "markdown",
   "id": "b3006c39",
   "metadata": {},
   "source": [
    "Deverá ser igual a 12 bits"
   ]
  },
  {
   "cell_type": "markdown",
   "id": "df50b5d9",
   "metadata": {},
   "source": [
    "### b) Qual deverá ser a largura do campo Reg das instruções?"
   ]
  },
  {
   "cell_type": "markdown",
   "id": "2f0b2420",
   "metadata": {},
   "source": [
    "A largura do campo Reg = 4 bits"
   ]
  },
  {
   "cell_type": "markdown",
   "id": "739c5b39",
   "metadata": {},
   "source": [
    "### c) Quantos acessos à memória devem ser realizados para executar o ciclo completo da instrução de C.Op. igual a 11? E para a instrução de C.Op. igual a 21?"
   ]
  },
  {
   "cell_type": "markdown",
   "id": "0a561584",
   "metadata": {},
   "source": [
    "Para C.Op. = 11 -- 1 acesso. Para C.Op. = 21 -- 2 acessos"
   ]
  }
 ],
 "metadata": {
  "kernelspec": {
   "display_name": "Python 3",
   "language": "python",
   "name": "python3"
  },
  "language_info": {
   "codemirror_mode": {
    "name": "ipython",
    "version": 3
   },
   "file_extension": ".py",
   "mimetype": "text/x-python",
   "name": "python",
   "nbconvert_exporter": "python",
   "pygments_lexer": "ipython3",
   "version": "3.8.8"
  }
 },
 "nbformat": 4,
 "nbformat_minor": 5
}
