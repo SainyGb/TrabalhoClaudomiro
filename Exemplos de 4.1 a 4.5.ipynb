{
 "cells": [
  {
   "cell_type": "raw",
   "id": "ce0ce8ff-fc18-4e57-924a-1b068ae3055b",
   "metadata": {
    "tags": []
   },
   "source": [
    "Exemplo 4.1\n",
    "M*N = Capacidade Total da Memória\n",
    "2K*16bits\n",
    "2K = 2**11"
   ]
  },
  {
   "cell_type": "code",
   "execution_count": 10,
   "id": "3256b740-e9c9-4f0f-9ed3-b317595ac239",
   "metadata": {},
   "outputs": [
    {
     "name": "stdout",
     "output_type": "stream",
     "text": [
      "32768\n"
     ]
    }
   ],
   "source": [
    "M = 2**4\n",
    "N = 2**11\n",
    "print(M*N)\n"
   ]
  },
  {
   "cell_type": "raw",
   "id": "ca115380-0f28-47bd-80a0-1a3f13f350a2",
   "metadata": {},
   "source": [
    "Resultado:\n",
    "Capacidade Total = 32Kbits\n",
    "tamanho do endereço = 11 bits"
   ]
  },
  {
   "cell_type": "raw",
   "id": "4dd09f5b-4270-4f98-9b6d-63aac5d920d3",
   "metadata": {},
   "source": [
    "Exemplo 4.2\n",
    "M*N = Capacidade Total da Memória = 256Kbits\n",
    "M = 8 bits\n",
    "N = 32K células\n",
    "N = 2**E; E = tamanho do end."
   ]
  },
  {
   "cell_type": "code",
   "execution_count": 7,
   "id": "abcae021-4c52-4513-b811-ecd331d3194e",
   "metadata": {},
   "outputs": [
    {
     "name": "stdout",
     "output_type": "stream",
     "text": [
      "15.0\n"
     ]
    }
   ],
   "source": [
    "import math\n",
    "N = 32768\n",
    "E = math.log(N, 2)\n",
    "print(E)\n"
   ]
  },
  {
   "cell_type": "raw",
   "id": "93a07088-8de8-4cc0-a51d-aa13207cefd1",
   "metadata": {},
   "source": [
    "Resultado: \n",
    "Capacidade da célula = 32K\n",
    "Tamanho do end = 15 bits"
   ]
  },
  {
   "cell_type": "raw",
   "id": "93fc438e-0102-44f4-9468-8e870faf59e6",
   "metadata": {},
   "source": [
    "Exemplo 4.3\n",
    "M = 16 bits\n",
    "N = 2K\n",
    "M*N = Capacidade Total da Memória = 2K*16bits = 2**11 * 2**4 = 2**15 = 32Kbits\n",
    "RDM = 16bits\n",
    "REM = 11bits\n",
    "Maior endereço = 2047\n",
    "\n"
   ]
  },
  {
   "cell_type": "raw",
   "id": "8608292d-7333-401c-90e3-9f18c64a416e",
   "metadata": {},
   "source": [
    "Exemplo 4.4\n",
    "RDM = 32 bits por palavra; 16 bits por célula\n",
    "REM = 24 bits\n",
    "2**24 = 2**20 * 2**4 = 16M célula\n",
    "M*N = Capacidade Total da Memória = 2**24 * 2**4 = 2**28 = 256Mbits"
   ]
  },
  {
   "cell_type": "raw",
   "id": "fcedaa6b-f3cd-4b37-a91b-18d68c370e7f",
   "metadata": {},
   "source": [
    "Exemplo 4.5\n",
    "Armazenamento máximo = 64Gbits\n",
    "Barramento de Endereços = 33 bits = 2**33 = 8G células.\n",
    "REM = 33 bits\n",
    "Barramento de Dados = 4 palavras; cada célula = 1/8 de palavra; cada célula = 8 bits, cada palavra = 64 bits. Logo, Barramento de Dados = 64 * 4 = 256 bits"
   ]
  }
 ],
 "metadata": {
  "kernelspec": {
   "display_name": "Python 3",
   "language": "python",
   "name": "python3"
  },
  "language_info": {
   "codemirror_mode": {
    "name": "ipython",
    "version": 3
   },
   "file_extension": ".py",
   "mimetype": "text/x-python",
   "name": "python",
   "nbconvert_exporter": "python",
   "pygments_lexer": "ipython3",
   "version": "3.8.8"
  },
  "toc-autonumbering": true,
  "toc-showcode": true,
  "toc-showmarkdowntxt": false
 },
 "nbformat": 4,
 "nbformat_minor": 5
}
